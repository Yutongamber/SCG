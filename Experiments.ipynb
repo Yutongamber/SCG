{
 "cells": [
  {
   "cell_type": "code",
   "execution_count": 1,
   "metadata": {},
   "outputs": [],
   "source": [
    "import numpy as np\n",
    "from scipy.special import softmax\n",
    "import matplotlib.pyplot as plt"
   ]
  },
  {
   "cell_type": "code",
   "execution_count": 2,
   "metadata": {},
   "outputs": [
    {
     "data": {
      "text/plain": [
       "[0, 0, 0, 1]"
      ]
     },
     "execution_count": 2,
     "metadata": {},
     "output_type": "execute_result"
    }
   ],
   "source": [
    "# helper function \n",
    "\n",
    "def bit_to_list(t, n):\n",
    "    S = [0 for i in range(n)]    \n",
    "    i = -1\n",
    "    while t != 0:\n",
    "        S[i] = t % 2\n",
    "        t = t >> 1\n",
    "        i -= 1\n",
    "    return S\n",
    "bit_to_list(1,4)"
   ]
  },
  {
   "cell_type": "markdown",
   "metadata": {},
   "source": [
    "### Experiment"
   ]
  },
  {
   "cell_type": "code",
   "execution_count": 3,
   "metadata": {},
   "outputs": [
    {
     "name": "stdout",
     "output_type": "stream",
     "text": [
      "0\n",
      "1\n"
     ]
    }
   ],
   "source": [
    "# graph representation\n",
    "# build up the graph with weights\n",
    "\n",
    "graph = {\n",
    "    \"s\": {\"0\": lambda x : x, \"1\": lambda x : 2},\n",
    "    \"a\": {\"2\": lambda x : 1, \"4\": lambda x : x},\n",
    "    \"b\": {\"3\": lambda x : 1, \"5\": lambda x : x},\n",
    "    \"c\": {\"6\": lambda x : x},\n",
    "    \"d\": {\"7\": lambda x : 1}\n",
    "}\n",
    "\n",
    "weight = graph[\"s\"]\n",
    "for i in weight.keys():\n",
    "    print(i)"
   ]
  },
  {
   "cell_type": "code",
   "execution_count": 4,
   "metadata": {},
   "outputs": [],
   "source": [
    "adjacency_m = [\n",
    "    [0, 1, 1, 0, 0, 0],\n",
    "    [0, 0, 0, 1, 1, 0],\n",
    "    [0, 0, 0, 1, 1, 0],\n",
    "    [0, 0, 0, 0, 0, 1],\n",
    "    [0, 0, 0, 0, 0, 1],\n",
    "    [0, 0, 0, 0, 0, 0]\n",
    "]"
   ]
  },
  {
   "cell_type": "code",
   "execution_count": 6,
   "metadata": {},
   "outputs": [
    {
     "ename": "SyntaxError",
     "evalue": "invalid syntax (<ipython-input-6-60f40d68dba2>, line 20)",
     "output_type": "error",
     "traceback": [
      "\u001b[1;36m  File \u001b[1;32m\"<ipython-input-6-60f40d68dba2>\"\u001b[1;36m, line \u001b[1;32m20\u001b[0m\n\u001b[1;33m    weight =\u001b[0m\n\u001b[1;37m             ^\u001b[0m\n\u001b[1;31mSyntaxError\u001b[0m\u001b[1;31m:\u001b[0m invalid syntax\n"
     ]
    }
   ],
   "source": [
    "# congestion game potential\n",
    "\n",
    "\"\"\"\n",
    "input: \n",
    "# agents\n",
    "state game: congestion game\n",
    "env\n",
    "\n",
    "output:\n",
    "<phi, next state>\n",
    "\"\"\"\n",
    "\n",
    "\"\"\"\n",
    "every state 对应一个 congestion game\n",
    "\"\"\"\n",
    "\n",
    "def phi_generator(n, state):\n",
    "    phi = dict()\n",
    "    s_next_n = n + 1   # agents unlabelled \n",
    "    weight = \n",
    "#     weight = env[state] \n",
    "    for i in range(s_next_n): # 0, 1 ,2\n",
    "        part1, part2 = 0, 0\n",
    "        m, v = 0, 0\n",
    "        for m in range(i):\n",
    "            part1 += weight[\"0\"](m+1) \n",
    "        for v in range(n-i):\n",
    "            part2 += weight[\"1\"](n+1)\n",
    "        phi[i] = part1 + part2\n",
    "    return phi"
   ]
  },
  {
   "cell_type": "code",
   "execution_count": 66,
   "metadata": {},
   "outputs": [
    {
     "data": {
      "text/plain": [
       "{0: 4, 1: 3, 2: 3}"
      ]
     },
     "execution_count": 66,
     "metadata": {},
     "output_type": "execute_result"
    }
   ],
   "source": [
    "phi_generator(2)"
   ]
  },
  {
   "cell_type": "markdown",
   "metadata": {},
   "source": [
    "## Experiment 1"
   ]
  },
  {
   "cell_type": "code",
   "execution_count": 7,
   "metadata": {},
   "outputs": [],
   "source": [
    "# 2 agents; small\n",
    "# payoff matrix\n",
    "\n",
    "nS = 8\n",
    "nA = 3\n",
    "\n",
    "payoff = [\n",
    "    [-3, -3, -4], # [s,s]\n",
    "    [-2, -2, -3], # [a,a]\n",
    "    [-2, -2, -2], # [a,b]\n",
    "    [-2, -2, -3], # [b,b]\n",
    "    [-3, -10, -10], # [c,c]\n",
    "    [-10, -2, -10], # [c,d]\n",
    "    [-10, -10, -2],  # [d,d]\n",
    "    [0, 0, 0]     # [T,T]\n",
    "]\n",
    "transition =[\n",
    "    [1, 2, 3],\n",
    "    [4, 5, 6],\n",
    "    [4, 5, 6],\n",
    "    [4, 5, 6],\n",
    "    [7, 7, 7],\n",
    "    [7, 7, 7],\n",
    "    [7, 7, 7],\n",
    "    [7, 7, 7]\n",
    "]"
   ]
  },
  {
   "cell_type": "code",
   "execution_count": 8,
   "metadata": {},
   "outputs": [],
   "source": [
    "# 2 agents; big\n",
    "# payoff matrix\n",
    "\n",
    "nS = 11\n",
    "nA = 3\n",
    "\n",
    "payoff = [\n",
    "    [-3, -3, -4], # [s,s] 1\n",
    "    [-2, -2, -3], # [a,a] 2\n",
    "    [-2, -2, -2], # [a,d] 3\n",
    "    [-2, -2, -3], # [d,d] 4\n",
    "    [-3, -3, -4], # [b,b] 5\n",
    "    [-2, -2, -2], # [b,e] 6\n",
    "    [-2, -2, -2],  # [e,e] 7\n",
    "    [-3, -10, -10], # [c,c] 8\n",
    "    [-10, -2, -10], # [c,f] 9\n",
    "    [-10, -10, -2], # [f,f] 10\n",
    "    [0, 0, 0]      #[T,T] 11\n",
    "]\n",
    "transition =[\n",
    "    [1, 2, 3],\n",
    "    [4, 5, 6],\n",
    "    [4, 5, 6],\n",
    "    [4, 5, 6],\n",
    "    [7, 8, 9],\n",
    "    [7, 8, 9],\n",
    "    [7, 8, 9],\n",
    "    [10,10,10],\n",
    "    [10, 10, 10],\n",
    "    [10, 10, 10],\n",
    "    [10, 10, 10]\n",
    "]"
   ]
  },
  {
   "cell_type": "code",
   "execution_count": 9,
   "metadata": {},
   "outputs": [
    {
     "data": {
      "text/plain": [
       "{0: {0: [(1, 1, -3, False)], 1: [(1, 2, -3, False)], 2: [(1, 3, -4, False)]},\n",
       " 1: {0: [(1, 4, -2, False)], 1: [(1, 5, -2, False)], 2: [(1, 6, -3, False)]},\n",
       " 2: {0: [(1, 4, -2, False)], 1: [(1, 5, -2, False)], 2: [(1, 6, -2, False)]},\n",
       " 3: {0: [(1, 4, -2, False)], 1: [(1, 5, -2, False)], 2: [(1, 6, -3, False)]},\n",
       " 4: {0: [(1, 7, -3, False)], 1: [(1, 8, -3, False)], 2: [(1, 9, -4, False)]},\n",
       " 5: {0: [(1, 7, -2, False)], 1: [(1, 8, -2, False)], 2: [(1, 9, -2, False)]},\n",
       " 6: {0: [(1, 7, -2, False)], 1: [(1, 8, -2, False)], 2: [(1, 9, -2, False)]},\n",
       " 7: {0: [(1, 10, -3, True)], 1: [(1, 10, -10, True)], 2: [(1, 10, -10, True)]},\n",
       " 8: {0: [(1, 10, -10, True)], 1: [(1, 10, -2, True)], 2: [(1, 10, -10, True)]},\n",
       " 9: {0: [(1, 10, -10, True)], 1: [(1, 10, -10, True)], 2: [(1, 10, -2, True)]},\n",
       " 10: {0: [(1, 10, 0, True)], 1: [(1, 10, 0, True)], 2: [(1, 10, 0, True)]}}"
      ]
     },
     "execution_count": 9,
     "metadata": {},
     "output_type": "execute_result"
    }
   ],
   "source": [
    "P = dict()\n",
    "for s in range(nS):\n",
    "    P[s] = {a : [] for a in range(nA)}\n",
    "    \n",
    "for state in range(nS):\n",
    "    for a in range(nA):\n",
    "        tmp = []\n",
    "        prob = 1\n",
    "        snext = transition[state][a]\n",
    "        reward = payoff[state][a]\n",
    "        done = False\n",
    "        if snext == 10:\n",
    "            done = True\n",
    "        # prob, next_state, reward, done\n",
    "        tmp.extend([(prob, snext, reward, done)])\n",
    "        P[state][a] = tmp\n",
    "P"
   ]
  },
  {
   "cell_type": "code",
   "execution_count": 11,
   "metadata": {},
   "outputs": [],
   "source": [
    "def value_iteration(theta=0.0001, discount_factor=1.0):\n",
    "    policy_list = []\n",
    "\n",
    "    def one_step_lookahead(state, V):\n",
    "        A = np.zeros(nA)\n",
    "        for a in range(nA):\n",
    "            for prob, next_state, reward, done in P[state][a]:\n",
    "                A[a] += prob * (reward + discount_factor * V[next_state])\n",
    "        return A\n",
    "\n",
    "    V = np.zeros(nS)\n",
    "    iter = 0\n",
    "    dl = []\n",
    "    vl = []\n",
    "\n",
    "    for _ in range(10):\n",
    "        iter += 1\n",
    "        print(iter)\n",
    "        # Stopping condition\n",
    "        delta = 0\n",
    "        # Update each state...\n",
    "        for s in range(nS):\n",
    "            # Do a one-step lookahead to find the best action\n",
    "            A = one_step_lookahead(s, V)\n",
    "            best_action_value = np.max(A)\n",
    "            # Calculate delta across all states seen so far\n",
    "            delta = max(delta, np.abs(best_action_value - V[s]))\n",
    "            # Update the value function. Ref: Sutton book eq. 4.10.\n",
    "            V[s] = best_action_value\n",
    "\n",
    "        vl.append(V.copy())\n",
    "        dl.append(delta)\n",
    "\n",
    "        # Check if we can stop\n",
    "        print(\"debug-> iter={}, delta={:.5f}, V={}\".format(iter, delta, V))\n",
    "#         if delta < theta:\n",
    "#             break\n",
    "        # Create a deterministic policy using the optimal value function\n",
    "        policy_iter = np.zeros([nS, nA])\n",
    "        for s in range(nS):\n",
    "            # One step lookahead to find the best action for this state\n",
    "            A = one_step_lookahead(s, V)\n",
    "            # pdb.set_trace()\n",
    "            policy_t = A\n",
    "            best_action = np.argmax(A)\n",
    "            # Always take the best action\n",
    "            # policy_iter[s, best_action] = 1.0\n",
    "            # soft policy\n",
    "            policy_iter[s, :] = policy_t # record action values\n",
    "        policy_list.append(policy_iter)\n",
    "        # print(\"policy\", policy_iter)\n",
    "\n",
    "    # Create a deterministic policy using the optimal value function\n",
    "    policy = np.zeros([nS, nA])\n",
    "    for s in range(nS):\n",
    "        # One step lookahead to find the best action for this state\n",
    "        A = one_step_lookahead(s, V)\n",
    "        best_action = np.argmax(A)\n",
    "        # Always take the best action\n",
    "        policy[s, best_action] = 1.0\n",
    "\n",
    "    return policy, V, dl, vl, policy_list"
   ]
  },
  {
   "cell_type": "code",
   "execution_count": 12,
   "metadata": {},
   "outputs": [
    {
     "name": "stdout",
     "output_type": "stream",
     "text": [
      "1\n",
      "debug-> iter=1, delta=3.00000, V=[-3. -2. -2. -2. -3. -2. -2. -3. -2. -2.  0.]\n",
      "2\n",
      "debug-> iter=2, delta=2.00000, V=[-5. -4. -4. -4. -5. -4. -4. -3. -2. -2.  0.]\n",
      "3\n",
      "debug-> iter=3, delta=2.00000, V=[-7. -6. -6. -6. -5. -4. -4. -3. -2. -2.  0.]\n",
      "4\n",
      "debug-> iter=4, delta=2.00000, V=[-9. -6. -6. -6. -5. -4. -4. -3. -2. -2.  0.]\n",
      "5\n",
      "debug-> iter=5, delta=0.00000, V=[-9. -6. -6. -6. -5. -4. -4. -3. -2. -2.  0.]\n",
      "6\n",
      "debug-> iter=6, delta=0.00000, V=[-9. -6. -6. -6. -5. -4. -4. -3. -2. -2.  0.]\n",
      "7\n",
      "debug-> iter=7, delta=0.00000, V=[-9. -6. -6. -6. -5. -4. -4. -3. -2. -2.  0.]\n",
      "8\n",
      "debug-> iter=8, delta=0.00000, V=[-9. -6. -6. -6. -5. -4. -4. -3. -2. -2.  0.]\n",
      "9\n",
      "debug-> iter=9, delta=0.00000, V=[-9. -6. -6. -6. -5. -4. -4. -3. -2. -2.  0.]\n",
      "10\n",
      "debug-> iter=10, delta=0.00000, V=[-9. -6. -6. -6. -5. -4. -4. -3. -2. -2.  0.]\n"
     ]
    }
   ],
   "source": [
    "policy, V, dl, vl, policy_list = value_iteration()"
   ]
  },
  {
   "cell_type": "code",
   "execution_count": 13,
   "metadata": {},
   "outputs": [
    {
     "data": {
      "image/png": "[encoded data removed]",
      "text/plain": [
       "<Figure size 432x288 with 1 Axes>"
      ]
     },
     "metadata": {
      "needs_background": "light"
     },
     "output_type": "display_data"
    }
   ],
   "source": [
    "###### plot\n",
    "\n",
    "v1 = np.array(vl)\n",
    "x = np.arange(0, 10)\n",
    "mean_v = np.mean(v1,axis=1) # sum列；得到维度与行维度相同\n",
    "plt.plot(x, mean_v, linewidth=1.8)\n",
    "plt.scatter(x, mean_v)\n",
    "plt.xlabel('#Iter')\n",
    "plt.ylabel('sum of $V_k$')\n",
    "plt.show()"
   ]
  },
  {
   "cell_type": "code",
   "execution_count": 14,
   "metadata": {},
   "outputs": [
    {
     "data": {
      "text/plain": [
       "array([[1., 0., 0.],\n",
       "       [0., 1., 0.],\n",
       "       [0., 1., 0.],\n",
       "       [0., 1., 0.],\n",
       "       [0., 1., 0.],\n",
       "       [0., 1., 0.],\n",
       "       [0., 1., 0.],\n",
       "       [1., 0., 0.],\n",
       "       [0., 1., 0.],\n",
       "       [0., 0., 1.],\n",
       "       [1., 0., 0.]])"
      ]
     },
     "execution_count": 14,
     "metadata": {},
     "output_type": "execute_result"
    }
   ],
   "source": [
    "# optimal policy\n",
    "# ！！！ 有几个NE\n",
    "policy"
   ]
  },
  {
   "cell_type": "code",
   "execution_count": 15,
   "metadata": {},
   "outputs": [],
   "source": [
    "def value_estimate(R, policy, theta=0.0001, discount_factor=1.0):\n",
    "#     def one_step_lookahead(state, V):\n",
    "#         A = np.zeros(nA)\n",
    "#         for a in range(nA):\n",
    "#             for prob, next_state, reward, done in P[state][a]:\n",
    "#                 A[a] += prob * (discount_factor * R[s][a]) * policy[s][a]\n",
    "#         return A\n",
    "    def one_step_lookahead(state, V):\n",
    "        A = np.zeros(nA)\n",
    "        for a in range(nA):\n",
    "            for prob, next_state, reward, done in P[state][a]:\n",
    "                A[a] += prob * (reward + discount_factor * V[next_state])\n",
    "        return A\n",
    "    V = np.zeros(nS)\n",
    "    iter = 0\n",
    "    dl = []\n",
    "    vl = []\n",
    "    while True:\n",
    "        iter += 1\n",
    "        # Stopping condition\n",
    "        delta = 0\n",
    "        # Update each state...\n",
    "        for s in range(nS):\n",
    "            # Do a one-step lookahead to find the best action\n",
    "            A = one_step_lookahead(s, V)\n",
    "            best_action_value = np.max(A)\n",
    "            # Calculate delta across all states seen so far\n",
    "            delta = max(delta, np.abs(best_action_value - V[s]))\n",
    "            # Update the value function. Ref: Sutton book eq. 4.10.\n",
    "            V[s] = np.max(A)\n",
    "        print(V)\n",
    "        vl.append(V.copy())\n",
    "        dl.append(delta)\n",
    "        # Check if we can stop\n",
    "        if delta < theta:\n",
    "            break\n",
    "    return policy, V, dl, vl"
   ]
  },
  {
   "cell_type": "markdown",
   "metadata": {},
   "source": [
    "# ？？？\n"
   ]
  },
  {
   "cell_type": "code",
   "execution_count": 16,
   "metadata": {},
   "outputs": [],
   "source": [
    "def total_return(policy_list):\n",
    "    # total return for agent 1\n",
    "    print(\"--> Start doing total return\")\n",
    "    v1 = []\n",
    "    v2 = []\n",
    "    iter = len(policy_list)\n",
    "\n",
    "    for idx in range(iter):\n",
    "        policy = policy_list[idx]\n",
    "        _, v, _, vl = value_estimate(env, R1, policy)\n",
    "        v1.append(v.copy())\n",
    "        _, v, _, vl = value_estimate(env, R2, policy)\n",
    "        v2.append(v.copy())\n",
    "\n",
    "    v1 = np.array(v1)\n",
    "    v2 = np.array(v2)\n",
    "    x = np.arange(0, iter)\n",
    "    mean_v = v1.sum(-1)\n",
    "    plt.plot(x, mean_v, linewidth=1.8)\n",
    "    plt.scatter(x, mean_v)\n",
    "    plt.xlabel('#Iter')\n",
    "    plt.ylabel('$V_k$ for agent 1')\n",
    "    plt.show()\n",
    "\n",
    "\n",
    "    plt.plot(x[1:-1], np.diff(mean_v)[1:], linewidth=1.8)\n",
    "    plt.scatter(x[1:-1], np.diff(mean_v)[1:])\n",
    "    plt.xlabel('#Iter')\n",
    "    plt.ylabel('$|V_k-V_{k-1}|$ for agent 1')\n",
    "    plt.show()\n",
    "    # agent 2\n",
    "    mean_v2 = v2.sum(-1)\n",
    "    plt.plot(x, mean_v2, linewidth=1.8)\n",
    "    plt.scatter(x, mean_v2)\n",
    "    plt.xlabel('#Iter')\n",
    "    plt.ylabel('$V_k$ for agent 2')\n",
    "    plt.show()\n",
    "\n",
    "    plt.plot(x[1:-1], np.diff(mean_v2)[1:], linewidth=1.8)\n",
    "    plt.scatter(x[1:-1], np.diff(mean_v2)[1:])\n",
    "    plt.xlabel('#Iter')\n",
    "    plt.ylabel('$|V_k-V_{k-1}|$ for agent 1')\n",
    "    plt.show()\n"
   ]
  },
  {
   "cell_type": "code",
   "execution_count": 17,
   "metadata": {},
   "outputs": [
    {
     "name": "stdout",
     "output_type": "stream",
     "text": [
      "[-3. -2. -2. -2. -3. -2. -2. -3. -2. -2.  0.]\n",
      "[-5. -4. -4. -4. -5. -4. -4. -3. -2. -2.  0.]\n",
      "[-7. -6. -6. -6. -5. -4. -4. -3. -2. -2.  0.]\n",
      "[-9. -6. -6. -6. -5. -4. -4. -3. -2. -2.  0.]\n",
      "[-9. -6. -6. -6. -5. -4. -4. -3. -2. -2.  0.]\n",
      "[-3. -2. -2. -2. -3. -2. -2. -3. -2. -2.  0.]\n",
      "[-5. -4. -4. -4. -5. -4. -4. -3. -2. -2.  0.]\n",
      "[-7. -6. -6. -6. -5. -4. -4. -3. -2. -2.  0.]\n",
      "[-9. -6. -6. -6. -5. -4. -4. -3. -2. -2.  0.]\n",
      "[-9. -6. -6. -6. -5. -4. -4. -3. -2. -2.  0.]\n",
      "[-3. -2. -2. -2. -3. -2. -2. -3. -2. -2.  0.]\n",
      "[-5. -4. -4. -4. -5. -4. -4. -3. -2. -2.  0.]\n",
      "[-7. -6. -6. -6. -5. -4. -4. -3. -2. -2.  0.]\n",
      "[-9. -6. -6. -6. -5. -4. -4. -3. -2. -2.  0.]\n",
      "[-9. -6. -6. -6. -5. -4. -4. -3. -2. -2.  0.]\n",
      "[-3. -2. -2. -2. -3. -2. -2. -3. -2. -2.  0.]\n",
      "[-5. -4. -4. -4. -5. -4. -4. -3. -2. -2.  0.]\n",
      "[-7. -6. -6. -6. -5. -4. -4. -3. -2. -2.  0.]\n",
      "[-9. -6. -6. -6. -5. -4. -4. -3. -2. -2.  0.]\n",
      "[-9. -6. -6. -6. -5. -4. -4. -3. -2. -2.  0.]\n",
      "[-3. -2. -2. -2. -3. -2. -2. -3. -2. -2.  0.]\n",
      "[-5. -4. -4. -4. -5. -4. -4. -3. -2. -2.  0.]\n",
      "[-7. -6. -6. -6. -5. -4. -4. -3. -2. -2.  0.]\n",
      "[-9. -6. -6. -6. -5. -4. -4. -3. -2. -2.  0.]\n",
      "[-9. -6. -6. -6. -5. -4. -4. -3. -2. -2.  0.]\n",
      "[-3. -2. -2. -2. -3. -2. -2. -3. -2. -2.  0.]\n",
      "[-5. -4. -4. -4. -5. -4. -4. -3. -2. -2.  0.]\n",
      "[-7. -6. -6. -6. -5. -4. -4. -3. -2. -2.  0.]\n",
      "[-9. -6. -6. -6. -5. -4. -4. -3. -2. -2.  0.]\n",
      "[-9. -6. -6. -6. -5. -4. -4. -3. -2. -2.  0.]\n",
      "[-3. -2. -2. -2. -3. -2. -2. -3. -2. -2.  0.]\n",
      "[-5. -4. -4. -4. -5. -4. -4. -3. -2. -2.  0.]\n",
      "[-7. -6. -6. -6. -5. -4. -4. -3. -2. -2.  0.]\n",
      "[-9. -6. -6. -6. -5. -4. -4. -3. -2. -2.  0.]\n",
      "[-9. -6. -6. -6. -5. -4. -4. -3. -2. -2.  0.]\n",
      "[-3. -2. -2. -2. -3. -2. -2. -3. -2. -2.  0.]\n",
      "[-5. -4. -4. -4. -5. -4. -4. -3. -2. -2.  0.]\n",
      "[-7. -6. -6. -6. -5. -4. -4. -3. -2. -2.  0.]\n",
      "[-9. -6. -6. -6. -5. -4. -4. -3. -2. -2.  0.]\n",
      "[-9. -6. -6. -6. -5. -4. -4. -3. -2. -2.  0.]\n",
      "[-3. -2. -2. -2. -3. -2. -2. -3. -2. -2.  0.]\n",
      "[-5. -4. -4. -4. -5. -4. -4. -3. -2. -2.  0.]\n",
      "[-7. -6. -6. -6. -5. -4. -4. -3. -2. -2.  0.]\n",
      "[-9. -6. -6. -6. -5. -4. -4. -3. -2. -2.  0.]\n",
      "[-9. -6. -6. -6. -5. -4. -4. -3. -2. -2.  0.]\n",
      "[-3. -2. -2. -2. -3. -2. -2. -3. -2. -2.  0.]\n",
      "[-5. -4. -4. -4. -5. -4. -4. -3. -2. -2.  0.]\n",
      "[-7. -6. -6. -6. -5. -4. -4. -3. -2. -2.  0.]\n",
      "[-9. -6. -6. -6. -5. -4. -4. -3. -2. -2.  0.]\n",
      "[-9. -6. -6. -6. -5. -4. -4. -3. -2. -2.  0.]\n"
     ]
    },
    {
     "data": {
      "image/png": "[encoded data removed]",
      "text/plain": [
       "<Figure size 432x288 with 1 Axes>"
      ]
     },
     "metadata": {
      "needs_background": "light"
     },
     "output_type": "display_data"
    }
   ],
   "source": [
    "# total return \n",
    "iter = len(policy_list)\n",
    "v1 = []\n",
    "for idx in range(iter):\n",
    "    policy = policy_list[idx]\n",
    "\n",
    "    _, v, _, vl = value_estimate(payoff, policy)\n",
    "    v1.append(v.copy())\n",
    "#     _, v, _, vl = value_estimate(env, R2, policy)\n",
    "#     v2.append(v.copy())\n",
    "\n",
    "v1 = np.array(v1)\n",
    "\n",
    "# v2 = np.array(v2)\n",
    "x = np.arange(0, iter)\n",
    "mean_v = v1.sum(-1) # sum列；得到维度与行维度相同\n",
    "plt.plot(x, mean_v, linewidth=1.8)\n",
    "plt.scatter(x, mean_v)\n",
    "plt.xlabel('#Iter')\n",
    "plt.ylabel('$V_k$ for agent 1')\n",
    "plt.show()\n"
   ]
  },
  {
   "cell_type": "markdown",
   "metadata": {},
   "source": [
    "## 4 agents planning"
   ]
  },
  {
   "cell_type": "code",
   "execution_count": 18,
   "metadata": {},
   "outputs": [],
   "source": [
    "# graph representation\n",
    "# build up the graph with weights\n",
    "\n",
    "graph = {\n",
    "    \"0\": {\"1\": lambda x : x, \"0\": lambda x : 3},\n",
    "    \"1\": {\"1\": lambda x : 0.5*x, \"0\": lambda x : 1},\n",
    "    \"2\": {\"1\": lambda x : 0.5, \"0\": lambda x : 0.8*x},\n",
    "    \"3\": {\"0\": lambda x : 0, \"1\": lambda x: -10},\n",
    "    \"4\": {\"0\": lambda x : 1, \"1\": lambda x: -10}\n",
    "} "
   ]
  },
  {
   "cell_type": "code",
   "execution_count": 19,
   "metadata": {},
   "outputs": [
    {
     "data": {
      "text/plain": [
       "[[0, 1, 1, 0, 0, 0],\n",
       " [0, 0, 0, 1, 1, 0],\n",
       " [0, 0, 0, 1, 1, 0],\n",
       " [0, 0, 0, 0, 0, 1],\n",
       " [0, 0, 0, 0, 0, 1],\n",
       " [0, 0, 0, 0, 0, 0]]"
      ]
     },
     "execution_count": 19,
     "metadata": {},
     "output_type": "execute_result"
    }
   ],
   "source": [
    "# action space\n",
    "adjacency_m = [\n",
    "    [0, 1, 1, 0, 0, 0],\n",
    "    [0, 0, 0, 1, 1, 0],\n",
    "    [0, 0, 0, 1, 1, 0],\n",
    "    [0, 0, 0, 0, 0, 1],\n",
    "    [0, 0, 0, 0, 0, 1],\n",
    "    [0, 0, 0, 0, 0, 0]\n",
    "]\n",
    "adjacency_m"
   ]
  },
  {
   "cell_type": "code",
   "execution_count": 20,
   "metadata": {},
   "outputs": [
    {
     "data": {
      "text/plain": [
       "array([1, 1])"
      ]
     },
     "execution_count": 20,
     "metadata": {},
     "output_type": "execute_result"
    }
   ],
   "source": [
    "action_global = np.array(adjacency_m)\n",
    "action_global[0].nonzero()\n",
    "x = np.nonzero(action_global[0]) # 非0元素坐标\n",
    "action_global[0][x] # 取出非0元素"
   ]
  },
  {
   "cell_type": "code",
   "execution_count": 21,
   "metadata": {},
   "outputs": [],
   "source": [
    "# state \n",
    "state = [\n",
    "    [4, 0, 0, 0, 0, 0], #0\n",
    "    [0, 1, 3, 0, 0, 0], #1\n",
    "    [0, 2, 2, 0, 0, 0], #2\n",
    "    [0, 3, 1, 0, 0, 0], #3\n",
    "    [0, 4, 0, 0, 0, 0], #4\n",
    "    [0, 0, 4, 0, 0, 0], #5\n",
    "    [0, 0, 0, 1, 3, 0], #6\n",
    "    [0, 0, 0, 2, 2, 0], #7\n",
    "    [0, 0, 0, 3, 1, 0], #8\n",
    "    [0, 0, 0, 4, 0, 0], #9\n",
    "    [0, 0, 0, 0, 4, 0], #10\n",
    "    [0, 0, 0, 0, 0, 4]  #11\n",
    "]"
   ]
  },
  {
   "cell_type": "code",
   "execution_count": 22,
   "metadata": {},
   "outputs": [
    {
     "data": {
      "text/plain": [
       "0"
      ]
     },
     "execution_count": 22,
     "metadata": {},
     "output_type": "execute_result"
    }
   ],
   "source": [
    "# 查list里面index\n",
    "state.index([4, 0, 0, 0, 0, 0])"
   ]
  },
  {
   "cell_type": "code",
   "execution_count": 23,
   "metadata": {},
   "outputs": [
    {
     "data": {
      "text/plain": [
       "{0: [0, 0, 0, 0],\n",
       " 1: [0, 0, 0, 1],\n",
       " 2: [0, 0, 1, 0],\n",
       " 3: [0, 0, 1, 1],\n",
       " 4: [0, 1, 0, 0],\n",
       " 5: [0, 1, 0, 1],\n",
       " 6: [0, 1, 1, 0],\n",
       " 7: [0, 1, 1, 1],\n",
       " 8: [1, 0, 0, 0],\n",
       " 9: [1, 0, 0, 1],\n",
       " 10: [1, 0, 1, 0],\n",
       " 11: [1, 0, 1, 1],\n",
       " 12: [1, 1, 0, 0],\n",
       " 13: [1, 1, 0, 1],\n",
       " 14: [1, 1, 1, 0],\n",
       " 15: [1, 1, 1, 1]}"
      ]
     },
     "execution_count": 23,
     "metadata": {},
     "output_type": "execute_result"
    }
   ],
   "source": [
    "action = dict()\n",
    "for a in range(16):\n",
    "    action[a] = bit_to_list(a, 4) # 4 means # agents\n",
    "action"
   ]
  },
  {
   "cell_type": "code",
   "execution_count": 24,
   "metadata": {},
   "outputs": [
    {
     "data": {
      "text/plain": [
       "[array([5., 1., 1., 2., 1., 2., 2., 3., 1., 2., 2., 3., 2., 3., 3., 4.]),\n",
       " array([10.,  6.,  6.,  7.,  6.,  7.,  7.,  8.,  6.,  7.,  7.,  8.,  7.,\n",
       "         8.,  8.,  9.]),\n",
       " array([10.,  6.,  6.,  7.,  6.,  7.,  7.,  8.,  6.,  7.,  7.,  8.,  7.,\n",
       "         8.,  8.,  9.]),\n",
       " array([10.,  6.,  6.,  7.,  6.,  7.,  7.,  8.,  6.,  7.,  7.,  8.,  7.,\n",
       "         8.,  8.,  9.]),\n",
       " array([10.,  6.,  6.,  7.,  6.,  7.,  7.,  8.,  6.,  7.,  7.,  8.,  7.,\n",
       "         8.,  8.,  9.]),\n",
       " array([10.,  6.,  6.,  7.,  6.,  7.,  7.,  8.,  6.,  7.,  7.,  8.,  7.,\n",
       "         8.,  8.,  9.]),\n",
       " array([11., 11., 11., 11., 11., 11., 11., 11., 11., 11., 11., 11., 11.,\n",
       "        11., 11., 11.]),\n",
       " array([11., 11., 11., 11., 11., 11., 11., 11., 11., 11., 11., 11., 11.,\n",
       "        11., 11., 11.]),\n",
       " array([11., 11., 11., 11., 11., 11., 11., 11., 11., 11., 11., 11., 11.,\n",
       "        11., 11., 11.]),\n",
       " array([11., 11., 11., 11., 11., 11., 11., 11., 11., 11., 11., 11., 11.,\n",
       "        11., 11., 11.]),\n",
       " array([11., 11., 11., 11., 11., 11., 11., 11., 11., 11., 11., 11., 11.,\n",
       "        11., 11., 11.]),\n",
       " array([11., 11., 11., 11., 11., 11., 11., 11., 11., 11., 11., 11., 11.,\n",
       "        11., 11., 11.])]"
      ]
     },
     "execution_count": 24,
     "metadata": {},
     "output_type": "execute_result"
    }
   ],
   "source": [
    "def generator(state, action):\n",
    "    transition = []\n",
    "    nS = len(state)\n",
    "    nA = len(action)\n",
    "    state_n = np.zeros(nA)\n",
    "    transition = []\n",
    "    # start: all at s \n",
    "    \n",
    "    for a in range(nA):\n",
    "        # 0  --> down\n",
    "        # 1  --> up \n",
    "        s = sum(action[a])\n",
    "        state_n[a] = state.index([0, s, (4-s), 0, 0, 0])\n",
    "        \n",
    "    transition.append(state_n)\n",
    "    state_n = np.zeros(nA)\n",
    "    for _ in range(5):\n",
    "        for a in range(nA):\n",
    "            s = sum(action[a])\n",
    "            state_n[a] = state.index([0, 0, 0, s, (4-s), 0])\n",
    "        transition.append(state_n)\n",
    "    state_n = np.zeros(nA) + 11\n",
    "    for _ in range(6):\n",
    "        transition.append(state_n)\n",
    "    return transition\n",
    "\n",
    "transition = generator(state, action)\n",
    "len(transition) # 12\n",
    "transition"
   ]
  },
  {
   "cell_type": "code",
   "execution_count": 25,
   "metadata": {},
   "outputs": [],
   "source": [
    "# congestion game potential\n",
    "\n",
    "\"\"\"\n",
    "input: \n",
    "# agents\n",
    "state game: congestion game\n",
    "env\n",
    "\n",
    "output:\n",
    "<phi, next state>\n",
    "\"\"\"\n",
    "\n",
    "\"\"\"\n",
    "every state 对应一个 congestion game\n",
    "\"\"\"\n",
    "\n",
    "\n",
    "def phi_generator(n, state, action, transition):\n",
    "    # 0  --> down\n",
    "    # 1  --> up \n",
    "    phi = []\n",
    "    \n",
    "    # at step 0\n",
    "    reward = np.zeros(len(action))\n",
    "    for a in range(len(action)):\n",
    "        act = action[a]\n",
    "        s = sum(act) # count how many 1\n",
    "        part1, part2 = 0, 0\n",
    "        m, v = 0, 0\n",
    "        for m in range(s):\n",
    "            part1 += graph[\"0\"][\"1\"](m+1)\n",
    "        for v in range(n-s):\n",
    "            part2 += graph[\"0\"][\"0\"](v+1)\n",
    "        reward[a] = part1 + part2\n",
    "    phi.append(reward)\n",
    "    \n",
    "    # at node A,D \n",
    "    for i in range(1,6):\n",
    "        mark = state[i][1]\n",
    "        reward = np.zeros(len(action))\n",
    "        for a in range(len(action)):\n",
    "            act = action[a]\n",
    "            s = sum(act)\n",
    "            \n",
    "            part1, part2 = 0, 0\n",
    "            m, v = 0, 0\n",
    "            s_ = sum(action[a][0:mark])\n",
    "            for m in range(s_):\n",
    "                part1 += graph[\"1\"][\"1\"](m+1)\n",
    "            for v in range(mark-s_):\n",
    "                part2 += graph[\"1\"][\"0\"](v+1)\n",
    "                    \n",
    "            part3, part4 = 0, 0\n",
    "            j, w = 0, 0\n",
    "            s__ = s - s_\n",
    "            for j in range(s__):\n",
    "                part3 += graph[\"2\"][\"1\"](j+1)\n",
    "            for w in range(4-mark-s__):\n",
    "                part4 += graph[\"2\"][\"0\"](w+1)\n",
    "            reward[a] = part1 + part2 + part3 + part4\n",
    "        phi.append(reward)\n",
    "    \n",
    "    # at node B, E\n",
    "    \n",
    "    for i in range(6,11):\n",
    "        mark_ = state[i][3]\n",
    "        reward = np.zeros(len(action))\n",
    "        a = 0\n",
    "        for a in range(len(action)):\n",
    "            \n",
    "            act = action[a]\n",
    "            s = sum(act)\n",
    "            zero_c = act[0:mark_].count(0)\n",
    "            part1, part2 = 0, 0\n",
    "            m, v = 0, 0\n",
    "            if (zero_c == mark_) and (s == state[i][4]):\n",
    "                for m in range(mark_):\n",
    "                    part1 += graph[\"3\"][\"0\"](m)\n",
    "                for v in range(state[i][4]):\n",
    "                    part2 += graph[\"4\"][\"0\"](v)\n",
    "                reward[a] = part1 + part2\n",
    "            else:\n",
    "                reward[a] = 20\n",
    "        phi.append(reward)\n",
    "        \n",
    "    # at terminal\n",
    "    reward = np.zeros(len(action))\n",
    "    phi.append(reward)\n",
    "        \n",
    "    return phi"
   ]
  },
  {
   "cell_type": "code",
   "execution_count": 26,
   "metadata": {},
   "outputs": [
    {
     "data": {
      "text/plain": [
       "[array([12., 10., 10.,  9., 10.,  9.,  9.,  9., 10.,  9.,  9.,  9.,  9.,\n",
       "         9.,  9., 10.]),\n",
       " array([5.8, 3.9, 3.9, 2.8, 3.9, 2.8, 2.8, 2.5, 5.3, 3.4, 3.4, 2.3, 3.4,\n",
       "        2.3, 2.3, 2. ]),\n",
       " array([4.4, 3.3, 3.3, 3. , 3.9, 2.8, 2.8, 2.5, 3.9, 2.8, 2.8, 2.5, 3.9,\n",
       "        2.8, 2.8, 2.5]),\n",
       " array([3.8, 3.5, 3.3, 3. , 3.3, 3. , 3.3, 3. , 3.3, 3. , 3.3, 3. , 3.3,\n",
       "        3. , 3.8, 3.5]),\n",
       " array([4. , 3.5, 3.5, 3.5, 3.5, 3.5, 3.5, 4. , 3.5, 3.5, 3.5, 4. , 3.5,\n",
       "        4. , 4. , 5. ]),\n",
       " array([8. , 5.3, 5.3, 3.4, 5.3, 3.4, 3.4, 2.3, 5.3, 3.4, 3.4, 2.3, 3.4,\n",
       "        2.3, 2.3, 2. ]),\n",
       " array([20., 20., 20., 20., 20., 20., 20.,  3., 20., 20., 20., 20., 20.,\n",
       "        20., 20., 20.]),\n",
       " array([20., 20., 20.,  2., 20., 20., 20., 20., 20., 20., 20., 20., 20.,\n",
       "        20., 20., 20.]),\n",
       " array([20.,  1., 20., 20., 20., 20., 20., 20., 20., 20., 20., 20., 20.,\n",
       "        20., 20., 20.]),\n",
       " array([ 0., 20., 20., 20., 20., 20., 20., 20., 20., 20., 20., 20., 20.,\n",
       "        20., 20., 20.]),\n",
       " array([20., 20., 20., 20., 20., 20., 20., 20., 20., 20., 20., 20., 20.,\n",
       "        20., 20.,  4.]),\n",
       " array([0., 0., 0., 0., 0., 0., 0., 0., 0., 0., 0., 0., 0., 0., 0., 0.])]"
      ]
     },
     "execution_count": 26,
     "metadata": {},
     "output_type": "execute_result"
    }
   ],
   "source": [
    "payoff = phi_generator(4, state, action, transition)\n",
    "payoff"
   ]
  },
  {
   "cell_type": "code",
   "execution_count": 27,
   "metadata": {},
   "outputs": [],
   "source": [
    "# 2 agents; small\n",
    "# payoff matrix\n",
    "\n",
    "nS = 12\n",
    "nA = 16\n",
    "\n",
    "payoff = phi_generator(4, state, action, transition)\n",
    "payoff = -np.array(payoff)\n",
    "transition = generator(state, action)"
   ]
  },
  {
   "cell_type": "code",
   "execution_count": 28,
   "metadata": {},
   "outputs": [
    {
     "name": "stdout",
     "output_type": "stream",
     "text": [
      "12 16\n"
     ]
    },
    {
     "data": {
      "text/plain": [
       "{0: {0: [(1, 5, -12.0, False)],\n",
       "  1: [(1, 1, -10.0, False)],\n",
       "  2: [(1, 1, -10.0, False)],\n",
       "  3: [(1, 2, -9.0, False)],\n",
       "  4: [(1, 1, -10.0, False)],\n",
       "  5: [(1, 2, -9.0, False)],\n",
       "  6: [(1, 2, -9.0, False)],\n",
       "  7: [(1, 3, -9.0, False)],\n",
       "  8: [(1, 1, -10.0, False)],\n",
       "  9: [(1, 2, -9.0, False)],\n",
       "  10: [(1, 2, -9.0, False)],\n",
       "  11: [(1, 3, -9.0, False)],\n",
       "  12: [(1, 2, -9.0, False)],\n",
       "  13: [(1, 3, -9.0, False)],\n",
       "  14: [(1, 3, -9.0, False)],\n",
       "  15: [(1, 4, -10.0, False)]},\n",
       " 1: {0: [(1, 10, -5.800000000000001, False)],\n",
       "  1: [(1, 6, -3.9000000000000004, False)],\n",
       "  2: [(1, 6, -3.9000000000000004, False)],\n",
       "  3: [(1, 7, -2.8, False)],\n",
       "  4: [(1, 6, -3.9000000000000004, False)],\n",
       "  5: [(1, 7, -2.8, False)],\n",
       "  6: [(1, 7, -2.8, False)],\n",
       "  7: [(1, 8, -2.5, False)],\n",
       "  8: [(1, 6, -5.300000000000001, False)],\n",
       "  9: [(1, 7, -3.4000000000000004, False)],\n",
       "  10: [(1, 7, -3.4000000000000004, False)],\n",
       "  11: [(1, 8, -2.3, False)],\n",
       "  12: [(1, 7, -3.4000000000000004, False)],\n",
       "  13: [(1, 8, -2.3, False)],\n",
       "  14: [(1, 8, -2.3, False)],\n",
       "  15: [(1, 9, -2.0, False)]},\n",
       " 2: {0: [(1, 10, -4.4, False)],\n",
       "  1: [(1, 6, -3.3, False)],\n",
       "  2: [(1, 6, -3.3, False)],\n",
       "  3: [(1, 7, -3.0, False)],\n",
       "  4: [(1, 6, -3.9000000000000004, False)],\n",
       "  5: [(1, 7, -2.8, False)],\n",
       "  6: [(1, 7, -2.8, False)],\n",
       "  7: [(1, 8, -2.5, False)],\n",
       "  8: [(1, 6, -3.9000000000000004, False)],\n",
       "  9: [(1, 7, -2.8, False)],\n",
       "  10: [(1, 7, -2.8, False)],\n",
       "  11: [(1, 8, -2.5, False)],\n",
       "  12: [(1, 7, -3.9000000000000004, False)],\n",
       "  13: [(1, 8, -2.8, False)],\n",
       "  14: [(1, 8, -2.8, False)],\n",
       "  15: [(1, 9, -2.5, False)]},\n",
       " 3: {0: [(1, 10, -3.8, False)],\n",
       "  1: [(1, 6, -3.5, False)],\n",
       "  2: [(1, 6, -3.3, False)],\n",
       "  3: [(1, 7, -3.0, False)],\n",
       "  4: [(1, 6, -3.3, False)],\n",
       "  5: [(1, 7, -3.0, False)],\n",
       "  6: [(1, 7, -3.3, False)],\n",
       "  7: [(1, 8, -3.0, False)],\n",
       "  8: [(1, 6, -3.3, False)],\n",
       "  9: [(1, 7, -3.0, False)],\n",
       "  10: [(1, 7, -3.3, False)],\n",
       "  11: [(1, 8, -3.0, False)],\n",
       "  12: [(1, 7, -3.3, False)],\n",
       "  13: [(1, 8, -3.0, False)],\n",
       "  14: [(1, 8, -3.8, False)],\n",
       "  15: [(1, 9, -3.5, False)]},\n",
       " 4: {0: [(1, 10, -4.0, False)],\n",
       "  1: [(1, 6, -3.5, False)],\n",
       "  2: [(1, 6, -3.5, False)],\n",
       "  3: [(1, 7, -3.5, False)],\n",
       "  4: [(1, 6, -3.5, False)],\n",
       "  5: [(1, 7, -3.5, False)],\n",
       "  6: [(1, 7, -3.5, False)],\n",
       "  7: [(1, 8, -4.0, False)],\n",
       "  8: [(1, 6, -3.5, False)],\n",
       "  9: [(1, 7, -3.5, False)],\n",
       "  10: [(1, 7, -3.5, False)],\n",
       "  11: [(1, 8, -4.0, False)],\n",
       "  12: [(1, 7, -3.5, False)],\n",
       "  13: [(1, 8, -4.0, False)],\n",
       "  14: [(1, 8, -4.0, False)],\n",
       "  15: [(1, 9, -5.0, False)]},\n",
       " 5: {0: [(1, 10, -8.0, False)],\n",
       "  1: [(1, 6, -5.300000000000001, False)],\n",
       "  2: [(1, 6, -5.300000000000001, False)],\n",
       "  3: [(1, 7, -3.4000000000000004, False)],\n",
       "  4: [(1, 6, -5.300000000000001, False)],\n",
       "  5: [(1, 7, -3.4000000000000004, False)],\n",
       "  6: [(1, 7, -3.4000000000000004, False)],\n",
       "  7: [(1, 8, -2.3, False)],\n",
       "  8: [(1, 6, -5.300000000000001, False)],\n",
       "  9: [(1, 7, -3.4000000000000004, False)],\n",
       "  10: [(1, 7, -3.4000000000000004, False)],\n",
       "  11: [(1, 8, -2.3, False)],\n",
       "  12: [(1, 7, -3.4000000000000004, False)],\n",
       "  13: [(1, 8, -2.3, False)],\n",
       "  14: [(1, 8, -2.3, False)],\n",
       "  15: [(1, 9, -2.0, False)]},\n",
       " 6: {0: [(1, 11, -20.0, True)],\n",
       "  1: [(1, 11, -20.0, True)],\n",
       "  2: [(1, 11, -20.0, True)],\n",
       "  3: [(1, 11, -20.0, True)],\n",
       "  4: [(1, 11, -20.0, True)],\n",
       "  5: [(1, 11, -20.0, True)],\n",
       "  6: [(1, 11, -20.0, True)],\n",
       "  7: [(1, 11, -3.0, True)],\n",
       "  8: [(1, 11, -20.0, True)],\n",
       "  9: [(1, 11, -20.0, True)],\n",
       "  10: [(1, 11, -20.0, True)],\n",
       "  11: [(1, 11, -20.0, True)],\n",
       "  12: [(1, 11, -20.0, True)],\n",
       "  13: [(1, 11, -20.0, True)],\n",
       "  14: [(1, 11, -20.0, True)],\n",
       "  15: [(1, 11, -20.0, True)]},\n",
       " 7: {0: [(1, 11, -20.0, True)],\n",
       "  1: [(1, 11, -20.0, True)],\n",
       "  2: [(1, 11, -20.0, True)],\n",
       "  3: [(1, 11, -2.0, True)],\n",
       "  4: [(1, 11, -20.0, True)],\n",
       "  5: [(1, 11, -20.0, True)],\n",
       "  6: [(1, 11, -20.0, True)],\n",
       "  7: [(1, 11, -20.0, True)],\n",
       "  8: [(1, 11, -20.0, True)],\n",
       "  9: [(1, 11, -20.0, True)],\n",
       "  10: [(1, 11, -20.0, True)],\n",
       "  11: [(1, 11, -20.0, True)],\n",
       "  12: [(1, 11, -20.0, True)],\n",
       "  13: [(1, 11, -20.0, True)],\n",
       "  14: [(1, 11, -20.0, True)],\n",
       "  15: [(1, 11, -20.0, True)]},\n",
       " 8: {0: [(1, 11, -20.0, True)],\n",
       "  1: [(1, 11, -1.0, True)],\n",
       "  2: [(1, 11, -20.0, True)],\n",
       "  3: [(1, 11, -20.0, True)],\n",
       "  4: [(1, 11, -20.0, True)],\n",
       "  5: [(1, 11, -20.0, True)],\n",
       "  6: [(1, 11, -20.0, True)],\n",
       "  7: [(1, 11, -20.0, True)],\n",
       "  8: [(1, 11, -20.0, True)],\n",
       "  9: [(1, 11, -20.0, True)],\n",
       "  10: [(1, 11, -20.0, True)],\n",
       "  11: [(1, 11, -20.0, True)],\n",
       "  12: [(1, 11, -20.0, True)],\n",
       "  13: [(1, 11, -20.0, True)],\n",
       "  14: [(1, 11, -20.0, True)],\n",
       "  15: [(1, 11, -20.0, True)]},\n",
       " 9: {0: [(1, 11, -0.0, True)],\n",
       "  1: [(1, 11, -20.0, True)],\n",
       "  2: [(1, 11, -20.0, True)],\n",
       "  3: [(1, 11, -20.0, True)],\n",
       "  4: [(1, 11, -20.0, True)],\n",
       "  5: [(1, 11, -20.0, True)],\n",
       "  6: [(1, 11, -20.0, True)],\n",
       "  7: [(1, 11, -20.0, True)],\n",
       "  8: [(1, 11, -20.0, True)],\n",
       "  9: [(1, 11, -20.0, True)],\n",
       "  10: [(1, 11, -20.0, True)],\n",
       "  11: [(1, 11, -20.0, True)],\n",
       "  12: [(1, 11, -20.0, True)],\n",
       "  13: [(1, 11, -20.0, True)],\n",
       "  14: [(1, 11, -20.0, True)],\n",
       "  15: [(1, 11, -20.0, True)]},\n",
       " 10: {0: [(1, 11, -20.0, True)],\n",
       "  1: [(1, 11, -20.0, True)],\n",
       "  2: [(1, 11, -20.0, True)],\n",
       "  3: [(1, 11, -20.0, True)],\n",
       "  4: [(1, 11, -20.0, True)],\n",
       "  5: [(1, 11, -20.0, True)],\n",
       "  6: [(1, 11, -20.0, True)],\n",
       "  7: [(1, 11, -20.0, True)],\n",
       "  8: [(1, 11, -20.0, True)],\n",
       "  9: [(1, 11, -20.0, True)],\n",
       "  10: [(1, 11, -20.0, True)],\n",
       "  11: [(1, 11, -20.0, True)],\n",
       "  12: [(1, 11, -20.0, True)],\n",
       "  13: [(1, 11, -20.0, True)],\n",
       "  14: [(1, 11, -20.0, True)],\n",
       "  15: [(1, 11, -4.0, True)]},\n",
       " 11: {0: [(1, 11, -0.0, True)],\n",
       "  1: [(1, 11, -0.0, True)],\n",
       "  2: [(1, 11, -0.0, True)],\n",
       "  3: [(1, 11, -0.0, True)],\n",
       "  4: [(1, 11, -0.0, True)],\n",
       "  5: [(1, 11, -0.0, True)],\n",
       "  6: [(1, 11, -0.0, True)],\n",
       "  7: [(1, 11, -0.0, True)],\n",
       "  8: [(1, 11, -0.0, True)],\n",
       "  9: [(1, 11, -0.0, True)],\n",
       "  10: [(1, 11, -0.0, True)],\n",
       "  11: [(1, 11, -0.0, True)],\n",
       "  12: [(1, 11, -0.0, True)],\n",
       "  13: [(1, 11, -0.0, True)],\n",
       "  14: [(1, 11, -0.0, True)],\n",
       "  15: [(1, 11, -0.0, True)]}}"
      ]
     },
     "execution_count": 28,
     "metadata": {},
     "output_type": "execute_result"
    }
   ],
   "source": [
    "P = dict()\n",
    "nS = len(state)\n",
    "nA = len(action)\n",
    "print(nS, nA)\n",
    "for s in range(nS):\n",
    "    P[s] = {a : [] for a in range(nA)}\n",
    "    \n",
    "for state in range(nS):\n",
    "    for a in range(nA):\n",
    "        tmp = []\n",
    "        prob = 1\n",
    "        snext = transition[state][a]\n",
    "        reward = payoff[state][a]\n",
    "        done = False\n",
    "        if snext == 11:\n",
    "            done = True\n",
    "        # prob, next_state, reward, done\n",
    "        tmp.extend([(prob, int(snext), reward, done)])\n",
    "        P[state][a] = tmp\n",
    "P"
   ]
  },
  {
   "cell_type": "code",
   "execution_count": 29,
   "metadata": {},
   "outputs": [
    {
     "name": "stdout",
     "output_type": "stream",
     "text": [
      "1\n",
      "debug-> iter=1, delta=9.00000, V=[-9.  -2.  -2.5 -3.  -3.5 -2.  -3.  -2.  -1.   0.  -4.   0. ]\n",
      "2\n",
      "debug-> iter=2, delta=2.50000, V=[-11.5  -2.   -2.5  -3.5  -5.   -2.   -3.   -2.   -1.    0.   -4.    0. ]\n",
      "3\n",
      "debug-> iter=3, delta=0.00000, V=[-11.5  -2.   -2.5  -3.5  -5.   -2.   -3.   -2.   -1.    0.   -4.    0. ]\n",
      "4\n",
      "debug-> iter=4, delta=0.00000, V=[-11.5  -2.   -2.5  -3.5  -5.   -2.   -3.   -2.   -1.    0.   -4.    0. ]\n",
      "5\n",
      "debug-> iter=5, delta=0.00000, V=[-11.5  -2.   -2.5  -3.5  -5.   -2.   -3.   -2.   -1.    0.   -4.    0. ]\n",
      "6\n",
      "debug-> iter=6, delta=0.00000, V=[-11.5  -2.   -2.5  -3.5  -5.   -2.   -3.   -2.   -1.    0.   -4.    0. ]\n",
      "7\n",
      "debug-> iter=7, delta=0.00000, V=[-11.5  -2.   -2.5  -3.5  -5.   -2.   -3.   -2.   -1.    0.   -4.    0. ]\n",
      "8\n",
      "debug-> iter=8, delta=0.00000, V=[-11.5  -2.   -2.5  -3.5  -5.   -2.   -3.   -2.   -1.    0.   -4.    0. ]\n",
      "9\n",
      "debug-> iter=9, delta=0.00000, V=[-11.5  -2.   -2.5  -3.5  -5.   -2.   -3.   -2.   -1.    0.   -4.    0. ]\n",
      "10\n",
      "debug-> iter=10, delta=0.00000, V=[-11.5  -2.   -2.5  -3.5  -5.   -2.   -3.   -2.   -1.    0.   -4.    0. ]\n"
     ]
    }
   ],
   "source": [
    "policy, V, dl, vl, policy_list = value_iteration()"
   ]
  },
  {
   "cell_type": "markdown",
   "metadata": {},
   "source": [
    "## 5 agents"
   ]
  },
  {
   "cell_type": "code",
   "execution_count": 30,
   "metadata": {},
   "outputs": [],
   "source": [
    "graph = {\n",
    "    \"0\": {\"1\": lambda x : x,            \"0\": lambda x : 5},\n",
    "    \"1\": {\"1\": lambda x : 0.5*x,        \"0\": lambda x : 3},\n",
    "    \"2\": {\"1\": lambda x : 0.5*x,        \"0\": lambda x : (0.5*x+1)},\n",
    "    \"3\": {\"1\": lambda x : 0.5*x,        \"0\": lambda x: 3},\n",
    "    \"4\": {\"1\": lambda x : 10,           \"0\": lambda x: 2},\n",
    "    \"5\": {\"1\": lambda x : x,            \"0\": lambda x: 10},\n",
    "    \"6\": {\"1\": lambda x : 0.5*x,        \"0\": lambda x: (0.5*x+1)},\n",
    "    \"7\": {\"0\": lambda x : 5,            \"1\": lambda x: 10},\n",
    "    \"8\": {\"0\": lambda x : x,            \"1\": lambda x: 10},\n",
    "    \"9\": {}\n",
    "} "
   ]
  },
  {
   "cell_type": "code",
   "execution_count": 31,
   "metadata": {},
   "outputs": [],
   "source": [
    "# state \n",
    "state = [\n",
    "    [4, 0, 0, 0, 0, 0], #0\n",
    "    [0, 1, 3, 0, 0, 0], #1\n",
    "    [0, 2, 2, 0, 0, 0], #2\n",
    "    [0, 3, 1, 0, 0, 0], #3\n",
    "    [0, 4, 0, 0, 0, 0], #4\n",
    "    [0, 0, 4, 0, 0, 0], #5\n",
    "    [0, 0, 0, 1, 3, 0], #6\n",
    "    [0, 0, 0, 2, 2, 0], #7\n",
    "    [0, 0, 0, 3, 1, 0], #8\n",
    "    [0, 0, 0, 4, 0, 0], #9\n",
    "    [0, 0, 0, 0, 4, 0], #10\n",
    "    [0, 0, 0, 0, 0, 4]  #11\n",
    "]"
   ]
  },
  {
   "cell_type": "code",
   "execution_count": 32,
   "metadata": {},
   "outputs": [
    {
     "data": {
      "text/plain": [
       "{0: [0, 0], 1: [0, 1], 2: [1, 0], 3: [1, 1]}"
      ]
     },
     "execution_count": 32,
     "metadata": {},
     "output_type": "execute_result"
    }
   ],
   "source": [
    "def action_generator(n):\n",
    "    action = dict()\n",
    "    nA = 2**n\n",
    "    for a in range(nA):\n",
    "        action[a] = bit_to_list(a, n) # 4 means # agents\n",
    "    return action\n",
    "action = action_generator(2)\n",
    "action"
   ]
  },
  {
   "cell_type": "code",
   "execution_count": 33,
   "metadata": {},
   "outputs": [
    {
     "data": {
      "text/plain": [
       "26"
      ]
     },
     "execution_count": 33,
     "metadata": {},
     "output_type": "execute_result"
    }
   ],
   "source": [
    "def state_generator(n):\n",
    "    \n",
    "    node_n = len(graph)\n",
    "    nS = int(2 + ((node_n - 2)/2) * (n + 1))\n",
    "    state = np.zeros((nS, len(graph)))\n",
    "    mark = node_n - 2\n",
    "    \n",
    "    # 0\n",
    "    state[0][0] = 5\n",
    "    \n",
    "    i = 0 \n",
    "    m = 1\n",
    "    for s in range(1, (nS-1)):\n",
    "        state[s][m] =  i \n",
    "        state[s][m+1] = 5 - i\n",
    "        i += 1\n",
    "        if i >= (n+1):\n",
    "            i = 0 \n",
    "            m += 2\n",
    "    state[-1][-1] = 5\n",
    "    state = state.astype(int)\n",
    "    return state.tolist()\n",
    "\n",
    "state = state_generator(5)\n",
    "len(state)"
   ]
  },
  {
   "cell_type": "code",
   "execution_count": 34,
   "metadata": {},
   "outputs": [],
   "source": [
    "def transition_generator(state, action, n):\n",
    "    \n",
    "    # 0  --> down\n",
    "    # 1  --> up \n",
    "    \n",
    "    transition = []\n",
    "    nS = len(state)\n",
    "    nA = len(action)\n",
    "    state_n = np.zeros(nA)\n",
    "\n",
    "    # start: all at s \n",
    "    \n",
    "    for a in range(nA):\n",
    "        s = sum(action[a])\n",
    "        state_n[a] = state.index([0, s, (n-s), 0, 0, 0, 0, 0, 0, 0])\n",
    "    transition.append(state_n)\n",
    "    \n",
    "    # node 1; 2\n",
    "    for _ in range(n+1):\n",
    "        state_n = np.zeros(nA)\n",
    "        for a in range(nA):\n",
    "            s = sum(action[a])\n",
    "            state_n[a] = state.index([0, 0, 0, s, (n-s), 0, 0, 0, 0, 0])\n",
    "        transition.append(state_n)\n",
    "    \n",
    "    # node 3; 4\n",
    "    for _ in range(n+1):\n",
    "        state_n = np.zeros(nA)\n",
    "        for a in range(nA):\n",
    "            s = sum(action[a])\n",
    "            state_n[a] = state.index([0, 0, 0, 0, 0, s, (n-s), 0, 0, 0])\n",
    "        transition.append(state_n)\n",
    "    \n",
    "    # node 5; 6\n",
    "    for _ in range(n+1):\n",
    "        state_n = np.zeros(nA)\n",
    "        for a in range(nA):\n",
    "            s = sum(action[a])\n",
    "            state_n[a] = state.index([0, 0, 0, 0, 0, 0, 0, s, (n-s), 0])\n",
    "        transition.append(state_n)\n",
    "    \n",
    "    # node 7; 8\n",
    "    state_n = np.zeros(nA) + 25\n",
    "    for _ in range(n+2):\n",
    "        transition.append(state_n)\n",
    "    \n",
    "    return transition\n",
    "transition = transition_generator(state, action, 5)"
   ]
  },
  {
   "cell_type": "code",
   "execution_count": 35,
   "metadata": {},
   "outputs": [
    {
     "data": {
      "text/plain": [
       "[array([1., 2., 2., 3.]),\n",
       " array([7., 8., 8., 9.]),\n",
       " array([7., 8., 8., 9.]),\n",
       " array([7., 8., 8., 9.]),\n",
       " array([7., 8., 8., 9.]),\n",
       " array([7., 8., 8., 9.]),\n",
       " array([7., 8., 8., 9.]),\n",
       " array([13., 14., 14., 15.]),\n",
       " array([13., 14., 14., 15.]),\n",
       " array([13., 14., 14., 15.]),\n",
       " array([13., 14., 14., 15.]),\n",
       " array([13., 14., 14., 15.]),\n",
       " array([13., 14., 14., 15.]),\n",
       " array([19., 20., 20., 21.]),\n",
       " array([19., 20., 20., 21.]),\n",
       " array([19., 20., 20., 21.]),\n",
       " array([19., 20., 20., 21.]),\n",
       " array([19., 20., 20., 21.]),\n",
       " array([19., 20., 20., 21.]),\n",
       " array([25., 25., 25., 25.]),\n",
       " array([25., 25., 25., 25.]),\n",
       " array([25., 25., 25., 25.]),\n",
       " array([25., 25., 25., 25.]),\n",
       " array([25., 25., 25., 25.]),\n",
       " array([25., 25., 25., 25.]),\n",
       " array([25., 25., 25., 25.])]"
      ]
     },
     "execution_count": 35,
     "metadata": {},
     "output_type": "execute_result"
    }
   ],
   "source": [
    "transition"
   ]
  },
  {
   "cell_type": "code",
   "execution_count": 36,
   "metadata": {},
   "outputs": [],
   "source": [
    "def phi_generator(n, state, action, transition):\n",
    "    # 0  --> down\n",
    "    # 1  --> up \n",
    "    \n",
    "    phi = []\n",
    "    \n",
    "    # at step 0\n",
    "    reward = np.zeros(len(action))\n",
    "    for a in range(len(action)):\n",
    "        act = action[a]\n",
    "        s = sum(act) # count how many 1\n",
    "        part1, part2 = 0, 0\n",
    "        m, v = 0, 0\n",
    "        for m in range(s):\n",
    "            part1 += graph[\"0\"][\"1\"](m+1)\n",
    "        for v in range(n-s):\n",
    "            part2 += graph[\"0\"][\"0\"](v+1)\n",
    "        reward[a] = part1 + part2\n",
    "    phi.append(reward)\n",
    "    \n",
    "    \n",
    "    # at node 1,2\n",
    "    for i in range(1,n+2):\n",
    "        mark = state[i][1]\n",
    "        reward = np.zeros(len(action))\n",
    "        for a in range(len(action)):\n",
    "            act = action[a]\n",
    "            s = sum(act)\n",
    "            \n",
    "            part1, part2 = 0, 0\n",
    "            m, v = 0, 0\n",
    "            s_ = sum(action[a][0:mark])\n",
    "            for m in range(s_):\n",
    "                part1 += graph[\"1\"][\"1\"](m+1)\n",
    "            for v in range(mark-s_):\n",
    "                part2 += graph[\"1\"][\"0\"](v+1)\n",
    "                    \n",
    "            part3, part4 = 0, 0\n",
    "            j, w = 0, 0\n",
    "            s__ = s - s_\n",
    "            for j in range(s__):\n",
    "                part3 += graph[\"2\"][\"1\"](j+1)\n",
    "            for w in range(n-mark-s__):\n",
    "                part4 += graph[\"2\"][\"0\"](w+1)\n",
    "            reward[a] = part1 + part2 + part3 + part4\n",
    "        phi.append(reward)\n",
    "    \n",
    "    # at node 3, 4\n",
    "    for i in range(1,n+2):\n",
    "        mark = state[i][1]\n",
    "        reward = np.zeros(len(action))\n",
    "        for a in range(len(action)):\n",
    "            act = action[a]\n",
    "            s = sum(act)\n",
    "            \n",
    "            part1, part2 = 0, 0\n",
    "            m, v = 0, 0\n",
    "            s_ = sum(action[a][0:mark])\n",
    "            for m in range(s_):\n",
    "                part1 += graph[\"3\"][\"1\"](m+1)\n",
    "            for v in range(mark-s_):\n",
    "                part2 += graph[\"3\"][\"0\"](v+1)\n",
    "                    \n",
    "            part3, part4 = 0, 0\n",
    "            j, w = 0, 0\n",
    "            s__ = s - s_\n",
    "            for j in range(s__):\n",
    "                part3 += graph[\"4\"][\"1\"](j+1)\n",
    "            for w in range(n-mark-s__):\n",
    "                part4 += graph[\"4\"][\"0\"](w+1)\n",
    "            reward[a] = part1 + part2 + part3 + part4\n",
    "        phi.append(reward)\n",
    "    \n",
    "    # at node 5, 6\n",
    "    for i in range(1,n+2):\n",
    "        mark = state[i][1]\n",
    "        reward = np.zeros(len(action))\n",
    "        for a in range(len(action)):\n",
    "            act = action[a]\n",
    "            s = sum(act)\n",
    "            \n",
    "            part1, part2 = 0, 0\n",
    "            m, v = 0, 0\n",
    "            s_ = sum(action[a][0:mark])\n",
    "            for m in range(s_):\n",
    "                part1 += graph[\"5\"][\"1\"](m+1)\n",
    "            for v in range(mark-s_):\n",
    "                part2 += graph[\"5\"][\"0\"](v+1)\n",
    "                    \n",
    "            part3, part4 = 0, 0\n",
    "            j, w = 0, 0\n",
    "            s__ = s - s_\n",
    "            for j in range(s__):\n",
    "                part3 += graph[\"6\"][\"1\"](j+1)\n",
    "            for w in range(n-mark-s__):\n",
    "                part4 += graph[\"6\"][\"0\"](w+1)\n",
    "            reward[a] = part1 + part2 + part3 + part4\n",
    "        phi.append(reward)\n",
    "\n",
    "    # at node 7,8\n",
    "    for i in range(19,25):\n",
    "        mark_ = state[i][3]\n",
    "        reward = np.zeros(len(action))\n",
    "        a = 0\n",
    "        for a in range(len(action)):\n",
    "            \n",
    "            act = action[a]\n",
    "            s = sum(act)\n",
    "            zero_c = act[0:mark_].count(0)\n",
    "            part1, part2 = 0, 0\n",
    "            m, v = 0, 0\n",
    "            if (zero_c == mark_) and (s == state[i][4]):\n",
    "                for m in range(mark_):\n",
    "                    part1 += graph[\"7\"][\"0\"](m)\n",
    "                for v in range(state[i][4]):\n",
    "                    part2 += graph[\"8\"][\"0\"](v)\n",
    "                reward[a] = part1 + part2\n",
    "            else:\n",
    "                reward[a] = 20\n",
    "        phi.append(reward)\n",
    "        \n",
    "    # at terminal\n",
    "    reward = np.zeros(len(action))\n",
    "    phi.append(reward)\n",
    "        \n",
    "    return phi\n"
   ]
  },
  {
   "cell_type": "code",
   "execution_count": 37,
   "metadata": {},
   "outputs": [
    {
     "data": {
      "text/plain": [
       "[array([25., 21., 21., 18.]),\n",
       " array([12.5,  9.5,  9.5,  7.5]),\n",
       " array([12. ,  9.5,  9.5,  7. ]),\n",
       " array([12. ,  9.5,  9.5,  7.5]),\n",
       " array([12.5, 10. , 10. ,  8. ]),\n",
       " array([13.5, 11. , 11. ,  9. ]),\n",
       " array([15. , 12.5, 12.5, 10.5]),\n",
       " array([10., 18., 18., 26.]),\n",
       " array([11. , 19. ,  8.5, 16.5]),\n",
       " array([12. ,  9.5,  9.5,  7.5]),\n",
       " array([13. , 10.5, 10.5,  8.5]),\n",
       " array([14. , 11.5, 11.5,  9.5]),\n",
       " array([15. , 12.5, 12.5, 10.5]),\n",
       " array([12.5,  9.5,  9.5,  7.5]),\n",
       " array([19. , 16.5, 10. ,  7.5]),\n",
       " array([26., 17., 17.,  9.]),\n",
       " array([33.5, 24.5, 24.5, 16.5]),\n",
       " array([41.5, 32.5, 32.5, 24.5]),\n",
       " array([50., 41., 41., 33.]),\n",
       " array([ 0., 20., 20., 20.]),\n",
       " array([ 0., 20., 20., 20.]),\n",
       " array([ 0., 20., 20., 20.]),\n",
       " array([ 0., 20., 20., 20.]),\n",
       " array([ 0., 20., 20., 20.]),\n",
       " array([ 0., 20., 20., 20.]),\n",
       " array([0., 0., 0., 0.])]"
      ]
     },
     "execution_count": 37,
     "metadata": {},
     "output_type": "execute_result"
    }
   ],
   "source": [
    "phi_generator(5, state, action, transition)"
   ]
  },
  {
   "cell_type": "code",
   "execution_count": 46,
   "metadata": {},
   "outputs": [
    {
     "name": "stdout",
     "output_type": "stream",
     "text": [
      "32\n",
      "26\n",
      "26\n"
     ]
    }
   ],
   "source": [
    "# 5 agents; big\n",
    "# payoff matrix\n",
    "\n",
    "N = 5\n",
    "action = action_generator(N)\n",
    "print(len(action))\n",
    "state = state_generator(N)\n",
    "print(len(state))\n",
    "payoff = phi_generator(N, state, action, transition)\n",
    "print(len(payoff))\n",
    "payoff = -np.array(payoff)\n",
    "transition = transition_generator(state, action, N)\n",
    "\n",
    "nS = len(state)\n",
    "nA = len(action)\n"
   ]
  },
  {
   "cell_type": "code",
   "execution_count": 39,
   "metadata": {},
   "outputs": [
    {
     "name": "stdout",
     "output_type": "stream",
     "text": [
      "26\n"
     ]
    }
   ],
   "source": [
    "def P_generator(N, action, state, transition, payoff):\n",
    "    P = dict()\n",
    "    nS = len(state)\n",
    "    print(nS)\n",
    "    nA = len(action)\n",
    "    for s in range(nS):\n",
    "        P[s] = {a : [] for a in range(nA)}\n",
    "        \n",
    "    a = 0\n",
    "    \n",
    "    for state in range(nS):\n",
    "        for a in range(nA):\n",
    "            tmp = []\n",
    "            prob = 1\n",
    "            snext = transition[state][a]\n",
    "            reward = payoff[state][a]\n",
    "            done = False\n",
    "            if snext == (nS-1):\n",
    "                done = True\n",
    "            # prob, next_state, reward, done\n",
    "            tmp.extend([(prob, int(snext), reward, done)])\n",
    "            P[state][a] = tmp\n",
    "\n",
    "    return P\n",
    "P = P_generator(N, action, state, transition, payoff)"
   ]
  },
  {
   "cell_type": "code",
   "execution_count": 40,
   "metadata": {},
   "outputs": [],
   "source": [
    "def value_iteration(theta=0.0001, discount_factor=1.0):\n",
    "    policy_list = []\n",
    "    \n",
    "    \n",
    "    def one_step_lookahead(state, V):\n",
    "        A = np.zeros(nA)\n",
    "        for a in range(nA):\n",
    "            for prob, next_state, reward, done in P[state][a]:\n",
    "                A[a] += prob * (reward + discount_factor * V[next_state])\n",
    "        return A\n",
    "\n",
    "    V = np.zeros(nS)\n",
    "    iter = 0\n",
    "    dl = []\n",
    "    vl = []\n",
    "\n",
    "    for _ in range(10):\n",
    "        iter += 1\n",
    "        print(iter)\n",
    "        # Stopping condition\n",
    "        delta = 0\n",
    "        # Update each state...\n",
    "        for s in range(nS):\n",
    "            # Do a one-step lookahead to find the best action\n",
    "            A = one_step_lookahead(s, V)\n",
    "            best_action_value = np.max(A)\n",
    "            # Calculate delta across all states seen so far\n",
    "            delta = max(delta, np.abs(best_action_value - V[s]))\n",
    "            # Update the value function. Ref: Sutton book eq. 4.10.\n",
    "            V[s] = best_action_value\n",
    "\n",
    "        vl.append(V.copy())\n",
    "        dl.append(delta)\n",
    "\n",
    "        # Check if we can stop\n",
    "        print(\"debug-> iter={}, delta={:.5f}, V={}\".format(iter, delta, V))\n",
    "#         if delta < theta:\n",
    "#             break\n",
    "        # Create a deterministic policy using the optimal value function\n",
    "        policy_iter = np.zeros([nS, nA])\n",
    "        for s in range(nS):\n",
    "            # One step lookahead to find the best action for this state\n",
    "            A = one_step_lookahead(s, V)\n",
    "            # pdb.set_trace()\n",
    "            policy_t = A\n",
    "            best_action = np.argmax(A)\n",
    "            # Always take the best action\n",
    "            # policy_iter[s, best_action] = 1.0\n",
    "            # soft policy\n",
    "            policy_iter[s, :] = policy_t # record action values\n",
    "        policy_list.append(policy_iter)\n",
    "        # print(\"policy\", policy_iter)\n",
    "\n",
    "    # Create a deterministic policy using the optimal value function\n",
    "    policy = np.zeros([nS, nA])\n",
    "    for s in range(nS):\n",
    "        # One step lookahead to find the best action for this state\n",
    "        A = one_step_lookahead(s, V)\n",
    "        best_action = np.argmax(A)\n",
    "        # Always take the best action\n",
    "        policy[s, best_action] = 1.0\n",
    "\n",
    "    return policy, V, dl, vl, policy_list"
   ]
  },
  {
   "cell_type": "code",
   "execution_count": 41,
   "metadata": {},
   "outputs": [
    {
     "name": "stdout",
     "output_type": "stream",
     "text": [
      "1\n",
      "debug-> iter=1, delta=15.00000, V=[-15.   -6.5  -5.   -4.5  -4.5  -5.5  -7.5 -10.   -8.5  -7.5  -7.   -7.\n",
      "  -7.5  -6.5  -5.5  -6.   -7.5 -10.5 -15.    0.    0.    0.    0.    0.\n",
      "   0.    0. ]\n",
      "2\n",
      "debug-> iter=2, delta=9.00000, V=[-20.5 -13.5 -12.  -11.5 -12.  -13.  -15.  -16.5 -14.  -13.5 -14.5 -15.5\n",
      " -16.5  -6.5  -5.5  -6.   -7.5 -10.5 -15.    0.    0.    0.    0.    0.\n",
      "   0.    0. ]\n",
      "3\n",
      "debug-> iter=3, delta=9.00000, V=[-28.  -21.  -20.  -20.  -20.5 -22.  -23.5 -16.5 -14.  -13.5 -14.5 -15.5\n",
      " -16.5  -6.5  -5.5  -6.   -7.5 -10.5 -15.    0.    0.    0.    0.    0.\n",
      "   0.    0. ]\n",
      "4\n",
      "debug-> iter=4, delta=8.50000, V=[-36.5 -21.  -20.  -20.  -20.5 -22.  -23.5 -16.5 -14.  -13.5 -14.5 -15.5\n",
      " -16.5  -6.5  -5.5  -6.   -7.5 -10.5 -15.    0.    0.    0.    0.    0.\n",
      "   0.    0. ]\n",
      "5\n",
      "debug-> iter=5, delta=0.00000, V=[-36.5 -21.  -20.  -20.  -20.5 -22.  -23.5 -16.5 -14.  -13.5 -14.5 -15.5\n",
      " -16.5  -6.5  -5.5  -6.   -7.5 -10.5 -15.    0.    0.    0.    0.    0.\n",
      "   0.    0. ]\n",
      "6\n",
      "debug-> iter=6, delta=0.00000, V=[-36.5 -21.  -20.  -20.  -20.5 -22.  -23.5 -16.5 -14.  -13.5 -14.5 -15.5\n",
      " -16.5  -6.5  -5.5  -6.   -7.5 -10.5 -15.    0.    0.    0.    0.    0.\n",
      "   0.    0. ]\n",
      "7\n",
      "debug-> iter=7, delta=0.00000, V=[-36.5 -21.  -20.  -20.  -20.5 -22.  -23.5 -16.5 -14.  -13.5 -14.5 -15.5\n",
      " -16.5  -6.5  -5.5  -6.   -7.5 -10.5 -15.    0.    0.    0.    0.    0.\n",
      "   0.    0. ]\n",
      "8\n",
      "debug-> iter=8, delta=0.00000, V=[-36.5 -21.  -20.  -20.  -20.5 -22.  -23.5 -16.5 -14.  -13.5 -14.5 -15.5\n",
      " -16.5  -6.5  -5.5  -6.   -7.5 -10.5 -15.    0.    0.    0.    0.    0.\n",
      "   0.    0. ]\n",
      "9\n",
      "debug-> iter=9, delta=0.00000, V=[-36.5 -21.  -20.  -20.  -20.5 -22.  -23.5 -16.5 -14.  -13.5 -14.5 -15.5\n",
      " -16.5  -6.5  -5.5  -6.   -7.5 -10.5 -15.    0.    0.    0.    0.    0.\n",
      "   0.    0. ]\n",
      "10\n",
      "debug-> iter=10, delta=0.00000, V=[-36.5 -21.  -20.  -20.  -20.5 -22.  -23.5 -16.5 -14.  -13.5 -14.5 -15.5\n",
      " -16.5  -6.5  -5.5  -6.   -7.5 -10.5 -15.    0.    0.    0.    0.    0.\n",
      "   0.    0. ]\n"
     ]
    }
   ],
   "source": [
    "policy, V, dl, vl, policy_list = value_iteration()"
   ]
  },
  {
   "cell_type": "code",
   "execution_count": 42,
   "metadata": {},
   "outputs": [
    {
     "data": {
      "image/png": "[encoded data removed]",
      "text/plain": [
       "<Figure size 432x288 with 1 Axes>"
      ]
     },
     "metadata": {
      "needs_background": "light"
     },
     "output_type": "display_data"
    }
   ],
   "source": [
    "###### plot\n",
    "\n",
    "v1 = np.array(vl)\n",
    "x = np.arange(0, 10)\n",
    "mean_v = np.mean(v1,axis=1) # sum列；得到维度与行维度相同\n",
    "plt.plot(x, mean_v, linewidth=1.8)\n",
    "plt.scatter(x, mean_v)\n",
    "plt.xlabel('#Iter')\n",
    "plt.ylabel('sum of $V_k$')\n",
    "plt.show()"
   ]
  },
  {
   "cell_type": "code",
   "execution_count": 43,
   "metadata": {},
   "outputs": [
    {
     "data": {
      "text/plain": [
       "array([[0., 0., 0., 0., 0., 0., 0., 1., 0., 0., 0., 0., 0., 0., 0., 0.,\n",
       "        0., 0., 0., 0., 0., 0., 0., 0., 0., 0., 0., 0., 0., 0., 0., 0.],\n",
       "       [0., 0., 0., 1., 0., 0., 0., 0., 0., 0., 0., 0., 0., 0., 0., 0.,\n",
       "        0., 0., 0., 0., 0., 0., 0., 0., 0., 0., 0., 0., 0., 0., 0., 0.],\n",
       "       [0., 0., 0., 0., 0., 0., 0., 0., 0., 0., 0., 0., 0., 0., 0., 0.,\n",
       "        0., 0., 0., 1., 0., 0., 0., 0., 0., 0., 0., 0., 0., 0., 0., 0.],\n",
       "       [0., 0., 0., 0., 0., 0., 0., 0., 0., 0., 0., 0., 0., 0., 0., 0.,\n",
       "        0., 0., 0., 0., 0., 0., 0., 0., 0., 1., 0., 0., 0., 0., 0., 0.],\n",
       "       [0., 0., 0., 0., 0., 0., 0., 0., 0., 0., 0., 0., 0., 0., 0., 0.,\n",
       "        0., 0., 0., 0., 0., 0., 0., 0., 0., 0., 0., 0., 0., 1., 0., 0.],\n",
       "       [0., 0., 0., 0., 0., 0., 0., 0., 0., 0., 0., 0., 0., 0., 1., 0.,\n",
       "        0., 0., 0., 0., 0., 0., 0., 0., 0., 0., 0., 0., 0., 0., 0., 0.],\n",
       "       [0., 0., 0., 0., 0., 0., 0., 1., 0., 0., 0., 0., 0., 0., 0., 0.,\n",
       "        0., 0., 0., 0., 0., 0., 0., 0., 0., 0., 0., 0., 0., 0., 0., 0.],\n",
       "       [1., 0., 0., 0., 0., 0., 0., 0., 0., 0., 0., 0., 0., 0., 0., 0.,\n",
       "        0., 0., 0., 0., 0., 0., 0., 0., 0., 0., 0., 0., 0., 0., 0., 0.],\n",
       "       [0., 0., 0., 0., 0., 0., 0., 0., 0., 0., 0., 0., 0., 0., 0., 0.,\n",
       "        1., 0., 0., 0., 0., 0., 0., 0., 0., 0., 0., 0., 0., 0., 0., 0.],\n",
       "       [0., 0., 0., 0., 0., 0., 0., 0., 0., 0., 0., 0., 0., 0., 0., 0.,\n",
       "        0., 0., 0., 0., 0., 0., 0., 0., 1., 0., 0., 0., 0., 0., 0., 0.],\n",
       "       [0., 0., 0., 0., 0., 0., 0., 0., 0., 0., 0., 0., 1., 0., 0., 0.,\n",
       "        0., 0., 0., 0., 0., 0., 0., 0., 0., 0., 0., 0., 0., 0., 0., 0.],\n",
       "       [0., 0., 0., 0., 0., 0., 1., 0., 0., 0., 0., 0., 0., 0., 0., 0.,\n",
       "        0., 0., 0., 0., 0., 0., 0., 0., 0., 0., 0., 0., 0., 0., 0., 0.],\n",
       "       [0., 0., 0., 1., 0., 0., 0., 0., 0., 0., 0., 0., 0., 0., 0., 0.,\n",
       "        0., 0., 0., 0., 0., 0., 0., 0., 0., 0., 0., 0., 0., 0., 0., 0.],\n",
       "       [0., 0., 0., 0., 0., 0., 0., 1., 0., 0., 0., 0., 0., 0., 0., 0.,\n",
       "        0., 0., 0., 0., 0., 0., 0., 0., 0., 0., 0., 0., 0., 0., 0., 0.],\n",
       "       [0., 0., 0., 0., 0., 0., 0., 0., 0., 0., 0., 0., 0., 0., 0., 0.,\n",
       "        0., 0., 0., 0., 0., 0., 0., 1., 0., 0., 0., 0., 0., 0., 0., 0.],\n",
       "       [0., 0., 0., 0., 0., 0., 0., 0., 0., 0., 0., 0., 0., 0., 0., 0.,\n",
       "        0., 0., 0., 0., 0., 0., 0., 0., 0., 0., 0., 1., 0., 0., 0., 0.],\n",
       "       [0., 0., 0., 0., 0., 0., 0., 0., 0., 0., 0., 0., 0., 0., 0., 0.,\n",
       "        0., 0., 0., 0., 0., 0., 0., 0., 0., 0., 0., 0., 0., 0., 0., 1.],\n",
       "       [0., 0., 0., 0., 0., 0., 0., 0., 0., 0., 0., 0., 0., 0., 0., 0.,\n",
       "        0., 0., 0., 0., 0., 0., 0., 0., 0., 0., 0., 0., 0., 0., 0., 1.],\n",
       "       [0., 0., 0., 0., 0., 0., 0., 0., 0., 0., 0., 0., 0., 0., 0., 0.,\n",
       "        0., 0., 0., 0., 0., 0., 0., 0., 0., 0., 0., 0., 0., 0., 0., 1.],\n",
       "       [1., 0., 0., 0., 0., 0., 0., 0., 0., 0., 0., 0., 0., 0., 0., 0.,\n",
       "        0., 0., 0., 0., 0., 0., 0., 0., 0., 0., 0., 0., 0., 0., 0., 0.],\n",
       "       [1., 0., 0., 0., 0., 0., 0., 0., 0., 0., 0., 0., 0., 0., 0., 0.,\n",
       "        0., 0., 0., 0., 0., 0., 0., 0., 0., 0., 0., 0., 0., 0., 0., 0.],\n",
       "       [1., 0., 0., 0., 0., 0., 0., 0., 0., 0., 0., 0., 0., 0., 0., 0.,\n",
       "        0., 0., 0., 0., 0., 0., 0., 0., 0., 0., 0., 0., 0., 0., 0., 0.],\n",
       "       [1., 0., 0., 0., 0., 0., 0., 0., 0., 0., 0., 0., 0., 0., 0., 0.,\n",
       "        0., 0., 0., 0., 0., 0., 0., 0., 0., 0., 0., 0., 0., 0., 0., 0.],\n",
       "       [1., 0., 0., 0., 0., 0., 0., 0., 0., 0., 0., 0., 0., 0., 0., 0.,\n",
       "        0., 0., 0., 0., 0., 0., 0., 0., 0., 0., 0., 0., 0., 0., 0., 0.],\n",
       "       [1., 0., 0., 0., 0., 0., 0., 0., 0., 0., 0., 0., 0., 0., 0., 0.,\n",
       "        0., 0., 0., 0., 0., 0., 0., 0., 0., 0., 0., 0., 0., 0., 0., 0.],\n",
       "       [1., 0., 0., 0., 0., 0., 0., 0., 0., 0., 0., 0., 0., 0., 0., 0.,\n",
       "        0., 0., 0., 0., 0., 0., 0., 0., 0., 0., 0., 0., 0., 0., 0., 0.]])"
      ]
     },
     "execution_count": 43,
     "metadata": {},
     "output_type": "execute_result"
    }
   ],
   "source": [
    "policy"
   ]
  },
  {
   "cell_type": "code",
   "execution_count": null,
   "metadata": {},
   "outputs": [],
   "source": []
  },
  {
   "cell_type": "code",
   "execution_count": null,
   "metadata": {},
   "outputs": [],
   "source": []
  }
 ],
 "metadata": {
  "kernelspec": {
   "display_name": "Python 3",
   "language": "python",
   "name": "python3"
  },
  "language_info": {
   "codemirror_mode": {
    "name": "ipython",
    "version": 3
   },
   "file_extension": ".py",
   "mimetype": "text/x-python",
   "name": "python",
   "nbconvert_exporter": "python",
   "pygments_lexer": "ipython3",
   "version": "3.7.3"
  }
 },
 "nbformat": 4,
 "nbformat_minor": 2
}

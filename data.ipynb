{
 "cells": [
  {
   "cell_type": "code",
   "execution_count": 25,
   "metadata": {},
   "outputs": [],
   "source": [
    "import numpy as np\n",
    "import pprint\n",
    "import sys\n",
    "import matplotlib.pyplot as plt\n",
    "import argparse\n",
    "from scipy.special import softmax\n",
    "if \"../\" not in sys.path:\n",
    "    sys.path.append(\"../\")\n",
    "from lib.envs.gridworld import GridworldEnv\n",
    "import json\n",
    "import pdb\n",
    "from collections import defaultdict\n",
    "from functools import partial\n",
    "\n",
    "pp = pprint.PrettyPrinter(indent=2)\n",
    "env = GridworldEnv()\n",
    "\n",
    "env.nA = 4\n",
    "env.nS = 22"
   ]
  },
  {
   "cell_type": "code",
   "execution_count": 39,
   "metadata": {},
   "outputs": [
    {
     "data": {
      "text/html": [
       "<div>\n",
       "<style scoped>\n",
       "    .dataframe tbody tr th:only-of-type {\n",
       "        vertical-align: middle;\n",
       "    }\n",
       "\n",
       "    .dataframe tbody tr th {\n",
       "        vertical-align: top;\n",
       "    }\n",
       "\n",
       "    .dataframe thead th {\n",
       "        text-align: right;\n",
       "    }\n",
       "</style>\n",
       "<table border=\"1\" class=\"dataframe\">\n",
       "  <thead>\n",
       "    <tr style=\"text-align: right;\">\n",
       "      <th></th>\n",
       "      <th>ID</th>\n",
       "      <th>State</th>\n",
       "      <th>(a1, b1)</th>\n",
       "      <th>(a1, b2)</th>\n",
       "      <th>(a2,b1)</th>\n",
       "      <th>(a2,b2)</th>\n",
       "      <th>R1</th>\n",
       "      <th>R2</th>\n",
       "      <th>R3</th>\n",
       "      <th>R4</th>\n",
       "      <th>phi1</th>\n",
       "      <th>phi2</th>\n",
       "      <th>phi3</th>\n",
       "      <th>phi4</th>\n",
       "    </tr>\n",
       "  </thead>\n",
       "  <tbody>\n",
       "    <tr>\n",
       "      <th>0</th>\n",
       "      <td>0</td>\n",
       "      <td>{B0;B0}</td>\n",
       "      <td>1</td>\n",
       "      <td>2</td>\n",
       "      <td>3</td>\n",
       "      <td>4</td>\n",
       "      <td>(-2,-2)</td>\n",
       "      <td>(-0.5,-2)</td>\n",
       "      <td>(-2,-0.5)</td>\n",
       "      <td>(-1,-1)</td>\n",
       "      <td>-2.5</td>\n",
       "      <td>-1.0</td>\n",
       "      <td>-1.0</td>\n",
       "      <td>0.0</td>\n",
       "    </tr>\n",
       "    <tr>\n",
       "      <th>1</th>\n",
       "      <td>1</td>\n",
       "      <td>{B1;B1}</td>\n",
       "      <td>5</td>\n",
       "      <td>6</td>\n",
       "      <td>7</td>\n",
       "      <td>8</td>\n",
       "      <td>(-1.6,-1.6)</td>\n",
       "      <td>(-0.8,-2)</td>\n",
       "      <td>(-2,-0.8)</td>\n",
       "      <td>(-2,-2)</td>\n",
       "      <td>0.0</td>\n",
       "      <td>-0.4</td>\n",
       "      <td>-0.4</td>\n",
       "      <td>-1.6</td>\n",
       "    </tr>\n",
       "    <tr>\n",
       "      <th>2</th>\n",
       "      <td>2</td>\n",
       "      <td>{B2;B1}</td>\n",
       "      <td>13</td>\n",
       "      <td>14</td>\n",
       "      <td>15</td>\n",
       "      <td>16</td>\n",
       "      <td>(-0.8,-0.9)</td>\n",
       "      <td>(-0.8,-2)</td>\n",
       "      <td>(-2,-0.9)</td>\n",
       "      <td>(-2,-2)</td>\n",
       "      <td>0.0</td>\n",
       "      <td>-1.1</td>\n",
       "      <td>-1.2</td>\n",
       "      <td>-2.3</td>\n",
       "    </tr>\n",
       "    <tr>\n",
       "      <th>3</th>\n",
       "      <td>3</td>\n",
       "      <td>{B1;B2}</td>\n",
       "      <td>17</td>\n",
       "      <td>18</td>\n",
       "      <td>19</td>\n",
       "      <td>20</td>\n",
       "      <td>(-0.9,-0.8)</td>\n",
       "      <td>(-2,-0.8)</td>\n",
       "      <td>(-0.9,-2)</td>\n",
       "      <td>(-2,-2)</td>\n",
       "      <td>0.0</td>\n",
       "      <td>-1.2</td>\n",
       "      <td>-1.1</td>\n",
       "      <td>-2.3</td>\n",
       "    </tr>\n",
       "    <tr>\n",
       "      <th>4</th>\n",
       "      <td>4</td>\n",
       "      <td>{B2;B2}</td>\n",
       "      <td>9</td>\n",
       "      <td>10</td>\n",
       "      <td>11</td>\n",
       "      <td>12</td>\n",
       "      <td>(-1.8,-1.8)</td>\n",
       "      <td>(-0.9,-2)</td>\n",
       "      <td>(-2,-0.9)</td>\n",
       "      <td>(-2,-2)</td>\n",
       "      <td>0.0</td>\n",
       "      <td>-0.2</td>\n",
       "      <td>-0.2</td>\n",
       "      <td>-1.3</td>\n",
       "    </tr>\n",
       "  </tbody>\n",
       "</table>\n",
       "</div>"
      ],
      "text/plain": [
       "   ID    State  (a1, b1)  (a1, b2)  (a2,b1)  (a2,b2)           R1         R2  \\\n",
       "0   0  {B0;B0}         1         2        3        4      (-2,-2)  (-0.5,-2)   \n",
       "1   1  {B1;B1}         5         6        7        8  (-1.6,-1.6)  (-0.8,-2)   \n",
       "2   2  {B2;B1}        13        14       15       16  (-0.8,-0.9)  (-0.8,-2)   \n",
       "3   3  {B1;B2}        17        18       19       20  (-0.9,-0.8)  (-2,-0.8)   \n",
       "4   4  {B2;B2}         9        10       11       12  (-1.8,-1.8)  (-0.9,-2)   \n",
       "\n",
       "          R3       R4  phi1  phi2  phi3  phi4  \n",
       "0  (-2,-0.5)  (-1,-1)  -2.5  -1.0  -1.0   0.0  \n",
       "1  (-2,-0.8)  (-2,-2)   0.0  -0.4  -0.4  -1.6  \n",
       "2  (-2,-0.9)  (-2,-2)   0.0  -1.1  -1.2  -2.3  \n",
       "3  (-0.9,-2)  (-2,-2)   0.0  -1.2  -1.1  -2.3  \n",
       "4  (-2,-0.9)  (-2,-2)   0.0  -0.2  -0.2  -1.3  "
      ]
     },
     "execution_count": 39,
     "metadata": {},
     "output_type": "execute_result"
    }
   ],
   "source": [
    "import pandas as pd\n",
    "scg_toy = r\"C:\\Users\\Tongtong\\Desktop\\UCL CSML\\aa_game theory\\code_SCG\\SPG-master\\SPG-master\\data\\SCG_toy.xlsx\"\n",
    "data = pd.read_excel(scg_toy)\n",
    "data.head()"
   ]
  },
  {
   "cell_type": "code",
   "execution_count": 40,
   "metadata": {},
   "outputs": [],
   "source": [
    "phi = data.loc[:,[\"phi1\",\"phi2\",\"phi3\",\"phi4\"]].values.tolist()\n",
    "transition = data.iloc[:,2:6].values.tolist()"
   ]
  },
  {
   "cell_type": "code",
   "execution_count": 41,
   "metadata": {},
   "outputs": [
    {
     "data": {
      "text/plain": [
       "[[-2.5, -1.0, -1.0, 0.0],\n",
       " [0.0, -0.4, -0.4, -1.6],\n",
       " [0.0, -1.1, -1.2, -2.3],\n",
       " [0.0, -1.2, -1.1, -2.3],\n",
       " [0.0, -0.2, -0.2, -1.3],\n",
       " [0.0, -0.4, -0.4, -1.6],\n",
       " [0.0, -1.1, -1.2, -2.3],\n",
       " [0.0, -1.2, -1.1, -2.3],\n",
       " [0.0, -0.2, -0.2, -1.3],\n",
       " [0.0, -0.4, -0.4, -1.6],\n",
       " [0.0, -1.1, -1.2, -2.3],\n",
       " [0.0, -1.2, -1.1, -2.3],\n",
       " [0.0, -0.2, -0.2, -1.3],\n",
       " [0.0, -1.2, -1.2, -2.4],\n",
       " [0.0, -1.1, -1.2, -2.3],\n",
       " [0.0, -1.2, -1.1, -2.3],\n",
       " [0.0, -1.1, -1.1, -2.2],\n",
       " [0.0, -1.2, -1.2, -2.4],\n",
       " [0.0, -1.1, -1.2, -2.3],\n",
       " [0.0, -1.1, -1.2, -2.3],\n",
       " [0.0, -1.1, -1.1, -2.2],\n",
       " [0.0, 0.0, 0.0, 0.0]]"
      ]
     },
     "execution_count": 41,
     "metadata": {},
     "output_type": "execute_result"
    }
   ],
   "source": [
    "phi"
   ]
  },
  {
   "cell_type": "code",
   "execution_count": 42,
   "metadata": {},
   "outputs": [
    {
     "data": {
      "text/plain": [
       "[[-1.5, 0.0, 0.0, 1.0],\n",
       " [12.0, 11.6, 11.6, 10.4],\n",
       " [6.0, 4.9, 4.8, 3.7],\n",
       " [1.0, -0.19999999999999996, -0.10000000000000009, -1.2999999999999998],\n",
       " [-1.0, -1.2, -1.2, -2.3],\n",
       " [1.0, 0.6, 0.6, -0.6000000000000001],\n",
       " [1.0, -0.10000000000000009, -0.19999999999999996, -1.2999999999999998],\n",
       " [1.0, -0.19999999999999996, -0.10000000000000009, -1.2999999999999998],\n",
       " [1.0, 0.8, 0.8, -0.30000000000000004],\n",
       " [1.0, 0.6, 0.6, -0.6000000000000001],\n",
       " [1.0, -0.10000000000000009, -0.19999999999999996, -1.2999999999999998],\n",
       " [1.0, -0.19999999999999996, -0.10000000000000009, -1.2999999999999998],\n",
       " [1.0, 0.8, 0.8, -0.30000000000000004],\n",
       " [1.0, -0.19999999999999996, -0.19999999999999996, -1.4],\n",
       " [1.0, -0.10000000000000009, -0.19999999999999996, -1.2999999999999998],\n",
       " [1.0, -0.19999999999999996, -0.10000000000000009, -1.2999999999999998],\n",
       " [1.0, -0.10000000000000009, -0.10000000000000009, -1.2000000000000002],\n",
       " [1.0, -0.19999999999999996, -0.19999999999999996, -1.4],\n",
       " [1.0, -0.10000000000000009, -0.19999999999999996, -1.2999999999999998],\n",
       " [1.0, -0.10000000000000009, -0.19999999999999996, -1.2999999999999998],\n",
       " [1.0, -0.10000000000000009, -0.10000000000000009, -1.2000000000000002],\n",
       " [1.0, 1.0, 1.0, 1.0]]"
      ]
     },
     "execution_count": 42,
     "metadata": {},
     "output_type": "execute_result"
    }
   ],
   "source": [
    "x = np.array(phi) + 1\n",
    "x[1, :] = x[1, :] + 10\n",
    "x[2, :] = x[2, :] + 5\n",
    "x[1, :] = x[1, :] + 1\n",
    "x[4, :] = x[4, :] - 2\n",
    "phi = x.tolist()\n",
    "phi"
   ]
  },
  {
   "cell_type": "code",
   "execution_count": 24,
   "metadata": {},
   "outputs": [
    {
     "data": {
      "text/plain": [
       "[[1, 2, 3, 4],\n",
       " [5, 6, 7, 8],\n",
       " [13, 14, 15, 16],\n",
       " [17, 18, 19, 20],\n",
       " [9, 10, 11, 12],\n",
       " [21, 21, 21, 21],\n",
       " [21, 21, 21, 21],\n",
       " [21, 21, 21, 21],\n",
       " [21, 21, 21, 21],\n",
       " [21, 21, 21, 21],\n",
       " [21, 21, 21, 21],\n",
       " [21, 21, 21, 21],\n",
       " [21, 21, 21, 21],\n",
       " [21, 21, 21, 21],\n",
       " [21, 21, 21, 21],\n",
       " [21, 21, 21, 21],\n",
       " [21, 21, 21, 21],\n",
       " [21, 21, 21, 21],\n",
       " [21, 21, 21, 21],\n",
       " [21, 21, 21, 21],\n",
       " [21, 21, 21, 21],\n",
       " [21, 21, 21, 21]]"
      ]
     },
     "execution_count": 24,
     "metadata": {},
     "output_type": "execute_result"
    }
   ],
   "source": [
    "transition"
   ]
  },
  {
   "cell_type": "code",
   "execution_count": null,
   "metadata": {},
   "outputs": [],
   "source": []
  }
 ],
 "metadata": {
  "kernelspec": {
   "display_name": "Python 3",
   "language": "python",
   "name": "python3"
  },
  "language_info": {
   "codemirror_mode": {
    "name": "ipython",
    "version": 3
   },
   "file_extension": ".py",
   "mimetype": "text/x-python",
   "name": "python",
   "nbconvert_exporter": "python",
   "pygments_lexer": "ipython3",
   "version": "3.7.3"
  }
 },
 "nbformat": 4,
 "nbformat_minor": 2
}

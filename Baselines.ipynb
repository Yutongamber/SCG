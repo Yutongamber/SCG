{
 "cells": [
  {
   "cell_type": "markdown",
   "metadata": {},
   "source": [
    "This notebook is used to construct matrix form game from network and apply best response algorithm. "
   ]
  },
  {
   "cell_type": "markdown",
   "metadata": {},
   "source": [
    "### Case 1； 4x4"
   ]
  },
  {
   "cell_type": "code",
   "execution_count": 1,
   "metadata": {},
   "outputs": [],
   "source": [
    "import numpy as np\n",
    "import random"
   ]
  },
  {
   "cell_type": "code",
   "execution_count": 2,
   "metadata": {},
   "outputs": [],
   "source": [
    "graph_cost = {\n",
    "    \"A\": {\"B\":lambda x : x, \"C\": lambda x : 2*x},\n",
    "    \"B\": {\"D\":lambda x: 99*x -99, \"E\": lambda x : x},\n",
    "    \"C\": {\"D\":lambda x: 2*x + 5, \"E\": lambda x: 2*x},\n",
    "    \"D\": {\"F\": lambda x: 3},\n",
    "    \"E\": {\"F\": lambda x: 5},\n",
    "    \"F\": []\n",
    "}\n",
    "\n",
    "Graph = {'A':  ['B', 'C'], # 构建树\n",
    "        'B':  ['D', 'E'],\n",
    "        'C':  ['D', 'E'],\n",
    "        'D':  ['F'],\n",
    "        'E':  ['F'],\n",
    "        'F':  []\n",
    "         }"
   ]
  },
  {
   "cell_type": "code",
   "execution_count": 3,
   "metadata": {},
   "outputs": [],
   "source": [
    "def generatePath(graph, path, end, results): # 生成路径\n",
    "    state = path[-1]\n",
    "    if state == end:\n",
    "        results.append(path)\n",
    "    else:\n",
    "        for arc in graph[state]:\n",
    "            if arc not in path: \n",
    "                generatePath(graph, path + [arc], end, results)"
   ]
  },
  {
   "cell_type": "code",
   "execution_count": 4,
   "metadata": {},
   "outputs": [],
   "source": [
    "def searchGraph(graph, start, end):\t\t\t\t\t# 搜索树\n",
    "\tresults = []                \n",
    "\tgeneratePath(graph, [start], end, results)\t\t\t# 生成路径\n",
    "\tresults.sort(key=lambda x:len(x))\t\t\t\t\t# 按路径长短排序\n",
    "\treturn results\n",
    "def generatePath(graph, path, end, results):\t\t\t# 生成路径\n",
    "    state = path[-1]\n",
    "    if state == end:\n",
    "        results.append(path)\n",
    "    else:\n",
    "        for arc in graph[state]:\n",
    "            if arc not in path: \n",
    "                generatePath(graph, path + [arc], end, results)"
   ]
  },
  {
   "cell_type": "code",
   "execution_count": 5,
   "metadata": {},
   "outputs": [],
   "source": [
    "def generate_link(r):\n",
    "    link = []\n",
    "    for i in range(len(r)):\n",
    "        path = r[i]\n",
    "        link_perpath = []\n",
    "        for j in range(0,len(r[0])-1):\n",
    "            link_perpath.append([path[j], path[j+1]])\n",
    "        link.append(link_perpath)\n",
    "    return link\n",
    "\n",
    "def generate_payoff(r, link): \n",
    "    num_strategy = 2**(len(r[0])-2)\n",
    "    num_agent = 2\n",
    "    cost_p1 = np.zeros([num_strategy, num_strategy])\n",
    "    cost_p2 = np.zeros([num_strategy, num_strategy])\n",
    "    cost1 = 0\n",
    "    cost2 = 0\n",
    "    for p1 in range(len(r)):\n",
    "        path_p1 = link[p1]\n",
    "        for p2 in range(len(r)):\n",
    "            path_p2 = link[p2]\n",
    "#             print(path_p2)\n",
    "            for j in range(0, len(r[0])-1):\n",
    "                if path_p1[j] == path_p2[j]:\n",
    "                    x = 2\n",
    "                else:\n",
    "                    x = 1 \n",
    "#                 print(p1, p2, x, graph_cost[path_p1[j][0]][path_p1[j][1]](x))\n",
    "                cost1 += graph_cost[path_p1[j][0]][path_p1[j][1]](x)\n",
    "                cost2 += graph_cost[path_p2[j][0]][path_p2[j][1]](x)\n",
    "            cost_p1[p1, p2] = cost1\n",
    "            cost_p2[p1, p2] = cost2\n",
    "            cost1 = 0\n",
    "            cost2 = 0\n",
    "            \n",
    "    Cost_p1 = (-cost_p1) #.tolist()\n",
    "    Cost_p2 = (-cost_p2) #.tolist()\n",
    "    \n",
    "    # payoff matrix\n",
    "    payoff_matrix = np.zeros([num_players, num_strategy, num_strategy])\n",
    "\n",
    "    payoff_matrix[0] = Cost_p1\n",
    "    payoff_matrix[1] = Cost_p2\n",
    "\n",
    "    return Cost_p1, Cost_p2, payoff_matrix"
   ]
  },
  {
   "cell_type": "code",
   "execution_count": 6,
   "metadata": {},
   "outputs": [],
   "source": [
    "def best_response(num_iter, r, num_players):\n",
    "    '''\n",
    "    this is best response dynamic demo\n",
    "    return: NE\n",
    "    '''\n",
    "    # number of iterations\n",
    "    \n",
    "    num_strategy = 2**(len(r[0])-2)\n",
    "\n",
    "    # 'strategy' stores each players' mixed strategy (probability of action 1 in each case)\n",
    "    strategys = np.zeros([num_players, num_iter, num_strategy])\n",
    "\n",
    "    payoffs = np.zeros([num_strategy, num_players]) \n",
    "\n",
    "    # random initialization p1 p2\n",
    "    \n",
    "    m = np.zeros([2])\n",
    "    m[0] = random.randint(0,3)\n",
    "    strategys[0][0, int(m[0])] = 1\n",
    "    m[1] = random.randint(0,3)\n",
    "    strategys[1][0, int(m[1])] = 1\n",
    "    \n",
    "    '''\n",
    "    m = np.zeros([2])\n",
    "    m[0] = 0\n",
    "    strategys[0][0, int(m[0])] = 1\n",
    "    m[1] = 0\n",
    "    strategys[1][0, int(m[1])] = 1\n",
    "    '''\n",
    "\n",
    "    payoff_temp = np.zeros([num_strategy,num_strategy])\n",
    "\n",
    "    for i in range(1,num_iter):\n",
    "\n",
    "        if i % 2: # 1,3,5,7 ...\n",
    "    #         print(strategys[1][i-1, :].reshape(1,num_strategy).shape)\n",
    "    #         print(payoff_matrix[0].shape)\n",
    "            payoff_temp = strategys[1][i-1, :].reshape(1,num_strategy) * payoff_matrix[0]\n",
    "            payoffs[:,0] = payoff_temp[:, int(m[1])]\n",
    "\n",
    "            if max(payoffs[:, 0]) > np.sum(payoffs[:,0] * strategys[0][i-1,:]):\n",
    "                strategys[0][i, np.argmax(payoffs[:,0])] = 1\n",
    "            else:\n",
    "                strategys[0][i, :] = strategys[0][i-1,:]\n",
    "            strategys[1][i, :] = strategys[1][i-1,:]\n",
    "\n",
    "        else: \n",
    "            payoff_temp = strategys[0][i-1, :].reshape(num_strategy,1) * payoff_matrix[1]\n",
    "            payoffs[:,1] = payoff_temp[int(m[0]),:]\n",
    "\n",
    "            if max(payoffs[:, 1]) > np.sum(payoffs[:,1] * strategys[1][i-1,:]):\n",
    "                strategys[1][i, np.argmax(payoffs[:,1])] = 1\n",
    "            else:\n",
    "                strategys[1][i, :] = strategys[1][i-1,:]\n",
    "            strategys[0][i, :] = strategys[0][i-1,:]\n",
    "\n",
    "        # update m\n",
    "        m[0] = np.where(strategys[0][i, :] == 1)[0]\n",
    "        m[1] = np.where(strategys[1][i, :] == 1)[0]\n",
    "    return strategys"
   ]
  },
  {
   "cell_type": "code",
   "execution_count": 11,
   "metadata": {},
   "outputs": [
    {
     "name": "stdout",
     "output_type": "stream",
     "text": [
      "************************\n",
      "     path A to F\n",
      "************************\n",
      "['A', 'B', 'D', 'F']\n",
      "['A', 'B', 'E', 'F']\n",
      "['A', 'C', 'D', 'F']\n",
      "['A', 'C', 'E', 'F']\n"
     ]
    }
   ],
   "source": [
    "r = searchGraph(Graph, 'A','F') # 搜索A到D的所有路径\n",
    "print('************************')\n",
    "print('     path A to F')\n",
    "print('************************')\n",
    "for i in r:\n",
    "    print(i)"
   ]
  },
  {
   "cell_type": "code",
   "execution_count": 12,
   "metadata": {},
   "outputs": [
    {
     "data": {
      "text/plain": [
       "[[['A', 'B'], ['B', 'D'], ['D', 'F']],\n",
       " [['A', 'B'], ['B', 'E'], ['E', 'F']],\n",
       " [['A', 'C'], ['C', 'D'], ['D', 'F']],\n",
       " [['A', 'C'], ['C', 'E'], ['E', 'F']]]"
      ]
     },
     "execution_count": 12,
     "metadata": {},
     "output_type": "execute_result"
    }
   ],
   "source": [
    "r = searchGraph(Graph, 'A','F')\n",
    "link = generate_link(r)\n",
    "link"
   ]
  },
  {
   "cell_type": "code",
   "execution_count": 13,
   "metadata": {},
   "outputs": [
    {
     "data": {
      "text/plain": [
       "array([[[-104.,   -5.,   -4.,   -4.],\n",
       "        [  -8.,   -9.,   -7.,   -7.],\n",
       "        [ -12.,  -12.,  -16.,  -14.],\n",
       "        [  -9.,   -9.,  -11.,  -13.]],\n",
       "\n",
       "       [[-104.,   -8.,  -12.,   -9.],\n",
       "        [  -5.,   -9.,  -12.,   -9.],\n",
       "        [  -4.,   -7.,  -16.,  -11.],\n",
       "        [  -4.,   -7.,  -14.,  -13.]]])"
      ]
     },
     "execution_count": 13,
     "metadata": {},
     "output_type": "execute_result"
    }
   ],
   "source": [
    "_,_, payoff_matrix = generate_payoff(r, link)\n",
    "payoff_matrix"
   ]
  },
  {
   "cell_type": "code",
   "execution_count": 14,
   "metadata": {},
   "outputs": [
    {
     "data": {
      "text/plain": [
       "array([[[0., 1., 0., 0.],\n",
       "        [1., 0., 0., 0.],\n",
       "        [1., 0., 0., 0.],\n",
       "        [1., 0., 0., 0.],\n",
       "        [1., 0., 0., 0.]],\n",
       "\n",
       "       [[0., 0., 1., 0.],\n",
       "        [0., 0., 1., 0.],\n",
       "        [0., 1., 0., 0.],\n",
       "        [0., 1., 0., 0.],\n",
       "        [0., 1., 0., 0.]]])"
      ]
     },
     "execution_count": 14,
     "metadata": {},
     "output_type": "execute_result"
    }
   ],
   "source": [
    "num_iter = 5\n",
    "num_players = 2\n",
    "strategys = best_response(num_iter, r, num_players)\n",
    "strategys"
   ]
  },
  {
   "cell_type": "markdown",
   "metadata": {},
   "source": [
    "best response: demo"
   ]
  },
  {
   "cell_type": "markdown",
   "metadata": {},
   "source": [
    "### Case 2: 8x8"
   ]
  },
  {
   "cell_type": "code",
   "execution_count": 15,
   "metadata": {},
   "outputs": [],
   "source": [
    "graph_cost = {\n",
    "    \"A\": {\"B\":lambda x : x, \"C\": lambda x : 2*x},\n",
    "    \"B\": {\"D\":lambda x: 99*x -99, \"E\": lambda x : x},\n",
    "    \"C\": {\"D\":lambda x: 2*x + 5, \"E\": lambda x: 2*x},\n",
    "    \"D\": {\"G\": lambda x: 2 + x, 'H': lambda x: 3*x},\n",
    "    \"E\": {\"G\": lambda x: x, 'H': lambda x: 5*x},\n",
    "    \"G\": {\"F\": lambda x: 2*x},\n",
    "    \"H\": {\"F\": lambda x: 5},\n",
    "    \"F\": []\n",
    "}\n",
    "\n",
    "Graph = {'A':  ['B', 'C'], # 构建树\n",
    "        'B':  ['D', 'E'],\n",
    "        'C':  ['D', 'E'],\n",
    "        'D':  ['G', 'H'],\n",
    "        'E':  ['G', 'H'],\n",
    "        'G': ['F'],\n",
    "        'H': ['F'],\n",
    "        'F':  []\n",
    "         }"
   ]
  },
  {
   "cell_type": "code",
   "execution_count": 16,
   "metadata": {},
   "outputs": [
    {
     "data": {
      "text/plain": [
       "array([[[-109., -106.,   -9.,   -7.,   -9.,   -6.,   -8.,   -6.],\n",
       "        [-109., -112.,  -10.,  -10.,   -9.,  -12.,   -9.,   -9.],\n",
       "        [  -8.,   -6.,  -10.,   -7.,   -7.,   -5.,   -8.,   -5.],\n",
       "        [ -13.,  -13.,  -14.,  -19.,  -12.,  -12.,  -12.,  -17.],\n",
       "        [ -17.,  -14.,  -16.,  -14.,  -21.,  -18.,  -18.,  -16.],\n",
       "        [ -17.,  -20.,  -17.,  -17.,  -21.,  -24.,  -19.,  -19.],\n",
       "        [  -9.,   -7.,  -10.,   -7.,  -11.,   -9.,  -14.,  -11.],\n",
       "        [ -14.,  -14.,  -14.,  -19.,  -16.,  -16.,  -18.,  -23.]],\n",
       "\n",
       "       [[-109., -109.,   -8.,  -13.,  -17.,  -17.,   -9.,  -14.],\n",
       "        [-106., -112.,   -6.,  -13.,  -14.,  -20.,   -7.,  -14.],\n",
       "        [  -9.,  -10.,  -10.,  -14.,  -16.,  -17.,  -10.,  -14.],\n",
       "        [  -7.,  -10.,   -7.,  -19.,  -14.,  -17.,   -7.,  -19.],\n",
       "        [  -9.,   -9.,   -7.,  -12.,  -21.,  -21.,  -11.,  -16.],\n",
       "        [  -6.,  -12.,   -5.,  -12.,  -18.,  -24.,   -9.,  -16.],\n",
       "        [  -8.,   -9.,   -8.,  -12.,  -18.,  -19.,  -14.,  -18.],\n",
       "        [  -6.,   -9.,   -5.,  -17.,  -16.,  -19.,  -11.,  -23.]]])"
      ]
     },
     "execution_count": 16,
     "metadata": {},
     "output_type": "execute_result"
    }
   ],
   "source": [
    "r = searchGraph(Graph, 'A','F')\n",
    "link = generate_link(r)\n",
    "# print(link)\n",
    "_,_, payoff_matrix = generate_payoff(r, link)\n",
    "payoff_matrix"
   ]
  },
  {
   "cell_type": "code",
   "execution_count": 17,
   "metadata": {},
   "outputs": [
    {
     "data": {
      "text/plain": [
       "array([[[0., 0., 1., 0., 0., 0., 0., 0.],\n",
       "        [0., 0., 1., 0., 0., 0., 0., 0.],\n",
       "        [0., 0., 1., 0., 0., 0., 0., 0.],\n",
       "        [0., 0., 1., 0., 0., 0., 0., 0.],\n",
       "        [0., 0., 1., 0., 0., 0., 0., 0.]],\n",
       "\n",
       "       [[0., 1., 0., 0., 0., 0., 0., 0.],\n",
       "        [0., 1., 0., 0., 0., 0., 0., 0.],\n",
       "        [1., 0., 0., 0., 0., 0., 0., 0.],\n",
       "        [1., 0., 0., 0., 0., 0., 0., 0.],\n",
       "        [1., 0., 0., 0., 0., 0., 0., 0.]]])"
      ]
     },
     "execution_count": 17,
     "metadata": {},
     "output_type": "execute_result"
    }
   ],
   "source": [
    "num_iter = 5\n",
    "num_players = 2\n",
    "strategys = best_response(num_iter, r, num_players)\n",
    "strategys"
   ]
  },
  {
   "cell_type": "markdown",
   "metadata": {},
   "source": [
    "Case 3:4x4; 2 NE"
   ]
  },
  {
   "cell_type": "code",
   "execution_count": 18,
   "metadata": {},
   "outputs": [],
   "source": [
    "graph_cost = {\n",
    "    \"A\": {\"B\":lambda x : x, \"C\": lambda x : 3},\n",
    "    \"B\": {\"D\":lambda x: 1, \"E\": lambda x : x},\n",
    "    \"C\": {\"D\":lambda x: 1, \"E\": lambda x: x },\n",
    "    \"D\": {\"F\": lambda x: x},\n",
    "    \"E\": {\"F\": lambda x: 2},\n",
    "    \"F\": []\n",
    "}\n",
    "\n",
    "Graph = {'A':  ['B', 'C'], # 构建树\n",
    "        'B':  ['D', 'E'],\n",
    "        'C':  ['D', 'E'],\n",
    "        'D':  ['F'],\n",
    "        'E':  ['F'],\n",
    "        'F':  []\n",
    "         }"
   ]
  },
  {
   "cell_type": "code",
   "execution_count": 19,
   "metadata": {},
   "outputs": [
    {
     "data": {
      "text/plain": [
       "array([[[1., 0., 0., 0.],\n",
       "        [1., 0., 0., 0.],\n",
       "        [1., 0., 0., 0.],\n",
       "        [1., 0., 0., 0.],\n",
       "        [1., 0., 0., 0.]],\n",
       "\n",
       "       [[0., 0., 0., 1.],\n",
       "        [0., 0., 0., 1.],\n",
       "        [1., 0., 0., 0.],\n",
       "        [1., 0., 0., 0.],\n",
       "        [1., 0., 0., 0.]]])"
      ]
     },
     "execution_count": 19,
     "metadata": {},
     "output_type": "execute_result"
    }
   ],
   "source": [
    "r = searchGraph(Graph, 'A','F')\n",
    "link = generate_link(r)\n",
    "_,_, payoff_matrix = generate_payoff(r, link)\n",
    "num_iter = 5\n",
    "num_players = 2\n",
    "strategys = best_response(num_iter, r, num_players)\n",
    "strategys # (1,2) (1,3) (4,1)"
   ]
  },
  {
   "cell_type": "code",
   "execution_count": 20,
   "metadata": {},
   "outputs": [
    {
     "data": {
      "text/plain": [
       "array([[[-5., -4., -4., -3.],\n",
       "        [-5., -6., -4., -4.],\n",
       "        [-6., -5., -6., -5.],\n",
       "        [-6., -6., -6., -7.]],\n",
       "\n",
       "       [[-5., -5., -6., -6.],\n",
       "        [-4., -6., -5., -6.],\n",
       "        [-4., -4., -6., -6.],\n",
       "        [-3., -4., -5., -7.]]])"
      ]
     },
     "execution_count": 20,
     "metadata": {},
     "output_type": "execute_result"
    }
   ],
   "source": [
    "payoff_matrix"
   ]
  },
  {
   "cell_type": "code",
   "execution_count": 21,
   "metadata": {},
   "outputs": [],
   "source": [
    "graph_cost = {\n",
    "    \"A\": {\"B\":lambda x : x, \"C\": lambda x : 3},\n",
    "    \"B\": {\"D\":lambda x: 10, \"E\": lambda x : 5*x},\n",
    "    \"C\": {\"D\":lambda x: x, \"E\": lambda x: x},\n",
    "    \"D\": {\"G\": lambda x: 1, 'H': lambda x: x},\n",
    "    \"E\": {\"G\": lambda x: 1, 'H': lambda x: x},\n",
    "    \"G\": {\"F\": lambda x: 5},\n",
    "    \"H\": {\"F\": lambda x: x},\n",
    "    \"F\": []\n",
    "}\n",
    "\n",
    "Graph = {'A':  ['B', 'C'], # 构建树\n",
    "        'B':  ['D', 'E'],\n",
    "        'C':  ['D', 'E'],\n",
    "        'D':  ['G', 'H'],\n",
    "        'E':  ['G', 'H'],\n",
    "        'G': ['F'],\n",
    "        'H': ['F'],\n",
    "        'F':  []\n",
    "         }"
   ]
  },
  {
   "cell_type": "code",
   "execution_count": 22,
   "metadata": {},
   "outputs": [
    {
     "data": {
      "text/plain": [
       "array([[[0., 0., 0., 1., 0., 0., 0., 0.],\n",
       "        [0., 0., 0., 0., 0., 1., 0., 0.],\n",
       "        [0., 0., 0., 0., 0., 1., 0., 0.],\n",
       "        [0., 0., 0., 0., 0., 1., 0., 0.],\n",
       "        [0., 0., 0., 0., 0., 1., 0., 0.]],\n",
       "\n",
       "       [[0., 0., 1., 0., 0., 0., 0., 0.],\n",
       "        [0., 0., 1., 0., 0., 0., 0., 0.],\n",
       "        [0., 0., 0., 0., 0., 0., 0., 1.],\n",
       "        [0., 0., 0., 0., 0., 0., 0., 1.],\n",
       "        [0., 0., 0., 0., 0., 0., 0., 1.]]])"
      ]
     },
     "execution_count": 22,
     "metadata": {},
     "output_type": "execute_result"
    }
   ],
   "source": [
    "r = searchGraph(Graph, 'A','F')\n",
    "link = generate_link(r)\n",
    "_,_, payoff_matrix = generate_payoff(r, link)\n",
    "num_iter = 5\n",
    "num_players = 2\n",
    "strategys = best_response(num_iter, r, num_players)\n",
    "strategys"
   ]
  },
  {
   "cell_type": "code",
   "execution_count": 23,
   "metadata": {},
   "outputs": [
    {
     "data": {
      "text/plain": [
       "array([[[-18., -18., -18., -18., -17., -17., -17., -17.],\n",
       "        [-14., -16., -14., -15., -13., -15., -13., -14.],\n",
       "        [-13., -13., -18., -18., -12., -12., -12., -12.],\n",
       "        [ -9., -10., -14., -16.,  -8.,  -9.,  -8., -10.],\n",
       "        [-10., -10., -10., -10., -11., -11., -10., -10.],\n",
       "        [ -6.,  -8.,  -6.,  -7.,  -7.,  -9.,  -6.,  -7.],\n",
       "        [-10., -10., -10., -10., -10., -10., -11., -11.],\n",
       "        [ -6.,  -7.,  -6.,  -8.,  -6.,  -7.,  -7.,  -9.]],\n",
       "\n",
       "       [[-18., -14., -13.,  -9., -10.,  -6., -10.,  -6.],\n",
       "        [-18., -16., -13., -10., -10.,  -8., -10.,  -7.],\n",
       "        [-18., -14., -18., -14., -10.,  -6., -10.,  -6.],\n",
       "        [-18., -15., -18., -16., -10.,  -7., -10.,  -8.],\n",
       "        [-17., -13., -12.,  -8., -11.,  -7., -10.,  -6.],\n",
       "        [-17., -15., -12.,  -9., -11.,  -9., -10.,  -7.],\n",
       "        [-17., -13., -12.,  -8., -10.,  -6., -11.,  -7.],\n",
       "        [-17., -14., -12., -10., -10.,  -7., -11.,  -9.]]])"
      ]
     },
     "execution_count": 23,
     "metadata": {},
     "output_type": "execute_result"
    }
   ],
   "source": [
    "payoff_matrix"
   ]
  },
  {
   "cell_type": "code",
   "execution_count": 24,
   "metadata": {},
   "outputs": [],
   "source": [
    "graph_cost = {\n",
    "    \"A\": {\"B\":lambda x : x, \"C\": lambda x : 3},\n",
    "    \"B\": {\"D\":lambda x: 1, \"E\": lambda x : x},\n",
    "    \"C\": {\"D\":lambda x: 1, \"E\": lambda x: x },\n",
    "    \"D\": {\"F\": lambda x: x},\n",
    "    \"E\": {\"F\": lambda x: 2},\n",
    "    \"F\": []\n",
    "}\n",
    "\n",
    "Graph = {'A':  ['B', 'C'], # 构建树\n",
    "        'B':  ['D', 'E'],\n",
    "        'C':  ['D', 'E'],\n",
    "        'D':  ['F'],\n",
    "        'E':  ['F'],\n",
    "        'F':  []\n",
    "         }"
   ]
  }
 ],
 "metadata": {
  "kernelspec": {
   "display_name": "Python 3",
   "language": "python",
   "name": "python3"
  },
  "language_info": {
   "codemirror_mode": {
    "name": "ipython",
    "version": 3
   },
   "file_extension": ".py",
   "mimetype": "text/x-python",
   "name": "python",
   "nbconvert_exporter": "python",
   "pygments_lexer": "ipython3",
   "version": "3.7.3"
  }
 },
 "nbformat": 4,
 "nbformat_minor": 2
}

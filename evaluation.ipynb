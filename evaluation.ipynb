{
 "cells": [
  {
   "cell_type": "code",
   "execution_count": 19,
   "metadata": {},
   "outputs": [],
   "source": [
    "import numpy as np\n",
    "from scipy.special import softmax\n",
    "import matplotlib.pyplot as plt"
   ]
  },
  {
   "cell_type": "code",
   "execution_count": 20,
   "metadata": {},
   "outputs": [],
   "source": [
    "def softmax(x, axis=None):\n",
    "    return np.exp(x - logsumexp(x, axis=axis, keepdims=True))\n",
    "def logsumexp(a, axis=None, b=None, keepdims=False, return_sign=False):\n",
    "    \n",
    "    a = _asarray_validated(a, check_finite=False)\n",
    "    if b is not None:\n",
    "        a, b = np.broadcast_arrays(a, b)\n",
    "        if np.any(b == 0):\n",
    "            a = a + 0.  # promote to at least float\n",
    "            a[b == 0] = -np.inf\n",
    "\n",
    "    a_max = np.amax(a, axis=axis, keepdims=True)\n",
    "\n",
    "    if a_max.ndim > 0:\n",
    "        a_max[~np.isfinite(a_max)] = 0\n",
    "    elif not np.isfinite(a_max):\n",
    "        a_max = 0\n",
    "\n",
    "    if b is not None:\n",
    "        b = np.asarray(b)\n",
    "        tmp = b * np.exp(a - a_max)\n",
    "    else:\n",
    "        tmp = np.exp(a - a_max)\n",
    "\n",
    "    # suppress warnings about log of zero\n",
    "    with np.errstate(divide='ignore'):\n",
    "        s = np.sum(tmp, axis=axis, keepdims=keepdims)\n",
    "        if return_sign:\n",
    "            sgn = np.sign(s)\n",
    "            s *= sgn  # /= makes more sense but we need zero -> zero\n",
    "        out = np.log(s)\n",
    "\n",
    "    if not keepdims:\n",
    "        a_max = np.squeeze(a_max, axis=axis)\n",
    "    out += a_max\n",
    "\n",
    "    if return_sign:\n",
    "        return out, sgn\n",
    "    else:\n",
    "        return out\n",
    "def _asarray_validated(a, check_finite=True,\n",
    "                       sparse_ok=False, objects_ok=False, mask_ok=False,\n",
    "                       as_inexact=False):\n",
    "    if not sparse_ok:\n",
    "        import scipy.sparse\n",
    "        if scipy.sparse.issparse(a):\n",
    "            msg = ('Sparse matrices are not supported by this function. '\n",
    "                   'Perhaps one of the scipy.sparse.linalg functions '\n",
    "                   'would work instead.')\n",
    "            raise ValueError(msg)\n",
    "    if not mask_ok:\n",
    "        if np.ma.isMaskedArray(a):\n",
    "            raise ValueError('masked arrays are not supported')\n",
    "    toarray = np.asarray_chkfinite if check_finite else np.asarray\n",
    "    a = toarray(a)\n",
    "    if not objects_ok:\n",
    "        if a.dtype is np.dtype('O'):\n",
    "            raise ValueError('object arrays are not supported')\n",
    "    if as_inexact:\n",
    "        if not np.issubdtype(a.dtype, np.inexact):\n",
    "            a = toarray(a, dtype=np.float_)\n",
    "    return a"
   ]
  },
  {
   "cell_type": "code",
   "execution_count": 23,
   "metadata": {},
   "outputs": [],
   "source": [
    "# helper function\n",
    "\n",
    "def value_iteration(theta=0.0001, discount_factor=1.0):\n",
    "    policy_list = []\n",
    "\n",
    "    def one_step_lookahead(state, V):\n",
    "        A = np.zeros(nA)\n",
    "        for a in range(nA):\n",
    "            for prob, next_state, reward, done in P[state][a]:\n",
    "                A[a] += prob * (reward + discount_factor * V[next_state])\n",
    "        return A\n",
    "\n",
    "    V = np.zeros(nS)\n",
    "    iter = 0\n",
    "    dl = []\n",
    "    vl = []\n",
    "\n",
    "    for _ in range(1):\n",
    "        iter += 1\n",
    "        print(iter)\n",
    "        # Stopping condition\n",
    "        delta = 0\n",
    "        # Update each state...\n",
    "        for s in range(nS):\n",
    "            # Do a one-step lookahead to find the best action\n",
    "            A = one_step_lookahead(s, V)\n",
    "            best_action_value = np.max(A)\n",
    "            # Calculate delta across all states seen so far\n",
    "            delta = max(delta, np.abs(best_action_value - V[s]))\n",
    "            # Update the value function. Ref: Sutton book eq. 4.10.\n",
    "            V[s] = best_action_value\n",
    "        print(V)\n",
    "        vl.append(V.copy())\n",
    "        dl.append(delta)\n",
    "\n",
    "        # Check if we can stop\n",
    "        print(\"debug-> iter={}, delta={:.5f}, V={}\".format(iter, delta, V))\n",
    "#         if delta < theta:\n",
    "#             break\n",
    "        # Create a deterministic policy using the optimal value function\n",
    "        policy_iter = np.zeros([nS, nA])\n",
    "        for s in range(nS):\n",
    "            # One step lookahead to find the best action for this state\n",
    "            A = one_step_lookahead(s, V)\n",
    "            print(A)\n",
    "            # pdb.set_trace()\n",
    "            policy_t = softmax(A)\n",
    "            best_action = np.argmax(A)\n",
    "            # Always take the best action\n",
    "            # policy_iter[s, best_action] = 1.0\n",
    "            # soft policy\n",
    "            policy_iter[s, :] = policy_t # record action values\n",
    "        policy_list.append(policy_iter)\n",
    "        # print(\"policy\", policy_iter)\n",
    "\n",
    "    # Create a deterministic policy using the optimal value function\n",
    "    policy = np.zeros([nS, nA])\n",
    "    for s in range(nS):\n",
    "        # One step lookahead to find the best action for this state\n",
    "        A = one_step_lookahead(s, V)\n",
    "        print(A)\n",
    "        best_action = np.argmax(A)\n",
    "        # Always take the best action\n",
    "        policy[s, best_action] = 1.0\n",
    "\n",
    "    return policy, V, dl, vl, policy_list, A"
   ]
  },
  {
   "cell_type": "code",
   "execution_count": null,
   "metadata": {},
   "outputs": [],
   "source": [
    "def mean_reward( policy_list):\n",
    "    # mean reward for agent 1\n",
    "    discount_factor = 1.\n",
    "    v1 = []\n",
    "    iter = len(policy_list)\n",
    "    for idx in range(iter):\n",
    "        # pdb.set_trace()\n",
    "        policy = policy_list[idx]\n",
    "        v1_t = []\n",
    "        for s in range(env.nS):\n",
    "            vs = 0.\n",
    "            for a in range(env.nA):\n",
    "                # a_taken = np.argmax(policy[s]) # 1\n",
    "                vs += policy[s][a]*R1[s][a]\n",
    "            v1_t.append(vs)\n",
    "        v1.append(v1_t)\n",
    "    # pdb.set_trace()\n",
    "    v1 = np.array(v1)\n",
    "    x = np.arange(0,iter)\n",
    "\n",
    "    plt.plot(x, v1.sum(-1), linewidth=1.8)\n",
    "    plt.scatter(x, v1.sum(-1), marker='o')\n",
    "    #\n",
    "    plt.xlabel('#Iter')\n",
    "    plt.ylabel('Mean reward for #1')\n",
    "\n",
    "    plt.show()\n",
    "\n",
    "    # mean reward for agent 2\n",
    "    discount_factor = 1.\n",
    "    v1 = []\n",
    "    iter = len(policy_list)\n",
    "    for idx in range(iter):\n",
    "        policy = policy_list[idx]\n",
    "        v1_t = []\n",
    "        for s in range(env.nS):\n",
    "            vs = 0.\n",
    "            for a in range(env.nA):\n",
    "                # a_taken = np.argmax(policy[s]) # 1\n",
    "                vs += policy[s][a]*R2[s][a]\n",
    "            v1_t.append(vs)\n",
    "        v1.append(v1_t)\n",
    "    # pdb.set_trace()\n",
    "    v1 = np.array(v1)\n",
    "    x = np.arange(0,iter)\n",
    "    plt.plot(x, v1.sum(-1), linewidth=1.8)\n",
    "    plt.scatter(x, v1.sum(-1), marker='o')\n",
    "    #\n",
    "    plt.xlabel('#Iter')\n",
    "    plt.ylabel('Mean reward for #2')\n",
    "    plt.show()"
   ]
  },
  {
   "cell_type": "code",
   "execution_count": 97,
   "metadata": {},
   "outputs": [],
   "source": [
    "def P_comp(n, node_N):\n",
    "\n",
    "    nS = int(2 + ((node_N - 2)/2) * (n + 1))\n",
    "    print(nS)\n",
    "    nA = 2**n\n",
    "    P = dict()\n",
    "    for s in range(nS):\n",
    "        P[s] = {a : [] for a in range(nA)}\n",
    "\n",
    "    for state in range(nS):\n",
    "        for a in range(nA):\n",
    "            tmp = []\n",
    "            prob = 1\n",
    "            snext = transition[state][a]\n",
    "            reward = payoff[state][a]\n",
    "            done = False\n",
    "            if snext == (nS -1):\n",
    "                done = True\n",
    "            # prob, next_state, reward, done\n",
    "            tmp.extend([(prob, int(snext), reward, done)])\n",
    "            P[state][a] = tmp\n",
    "        print(P)\n",
    "            \n",
    "    return nS, nA, P"
   ]
  },
  {
   "cell_type": "markdown",
   "metadata": {},
   "source": [
    "## 1. Small one"
   ]
  },
  {
   "cell_type": "code",
   "execution_count": null,
   "metadata": {},
   "outputs": [],
   "source": [
    "# just for record\n",
    "graph = {\n",
    "    \"0\": {\"1\": lambda x : x,            \"0\": lambda x : 2},\n",
    "    \"1\": {\"1\": lambda x : 1,        \"0\": lambda x : x},\n",
    "    \"2\": {\"1\": lambda x : 1,        \"0\": lambda x : x},\n",
    "    \"3\": {\"1\": lambda x : 10,        \"0\": lambda x: x},\n",
    "    \"4\": {\"1\": lambda x : 1,           \"0\": 10},\n",
    "    \"5\": {\"1\": lambda x : 0,            \"0\": 0},\n",
    "} "
   ]
  },
  {
   "cell_type": "code",
   "execution_count": 3,
   "metadata": {},
   "outputs": [],
   "source": [
    "# 2 agents; small\n",
    "# payoff matrix\n",
    "\n",
    "nS = 8\n",
    "nA = 3\n",
    "\n",
    "payoff = [\n",
    "    [-3, -3, -4], # [s,s]\n",
    "    [-2, -2, -3], # [a,a]\n",
    "    [-2, -2, -2], # [a,b]\n",
    "    [-2, -2, -3], # [b,b]\n",
    "    [-3, -10, -10], # [c,c]\n",
    "    [-10, -2, -10], # [c,d]\n",
    "    [-10, -10, -2],  # [d,d]\n",
    "    [0, 0, 0]     # [T,T]\n",
    "]\n",
    "transition =[\n",
    "    [1, 2, 3],\n",
    "    [4, 5, 6],\n",
    "    [4, 5, 6],\n",
    "    [4, 5, 6],\n",
    "    [7, 7, 7],\n",
    "    [7, 7, 7],\n",
    "    [7, 7, 7],\n",
    "    [7, 7, 7]\n",
    "]"
   ]
  },
  {
   "cell_type": "code",
   "execution_count": 4,
   "metadata": {},
   "outputs": [
    {
     "data": {
      "text/plain": [
       "{0: {0: [(1, 1, -3, False)], 1: [(1, 2, -3, False)], 2: [(1, 3, -4, False)]},\n",
       " 1: {0: [(1, 4, -2, False)], 1: [(1, 5, -2, False)], 2: [(1, 6, -3, False)]},\n",
       " 2: {0: [(1, 4, -2, False)], 1: [(1, 5, -2, False)], 2: [(1, 6, -2, False)]},\n",
       " 3: {0: [(1, 4, -2, False)], 1: [(1, 5, -2, False)], 2: [(1, 6, -3, False)]},\n",
       " 4: {0: [(1, 7, -3, False)], 1: [(1, 7, -10, False)], 2: [(1, 7, -10, False)]},\n",
       " 5: {0: [(1, 7, -10, False)], 1: [(1, 7, -2, False)], 2: [(1, 7, -10, False)]},\n",
       " 6: {0: [(1, 7, -10, False)], 1: [(1, 7, -10, False)], 2: [(1, 7, -2, False)]},\n",
       " 7: {0: [(1, 7, 0, False)], 1: [(1, 7, 0, False)], 2: [(1, 7, 0, False)]}}"
      ]
     },
     "execution_count": 4,
     "metadata": {},
     "output_type": "execute_result"
    }
   ],
   "source": [
    "P = dict()\n",
    "for s in range(nS):\n",
    "    P[s] = {a : [] for a in range(nA)}\n",
    "    \n",
    "for state in range(nS):\n",
    "    for a in range(nA):\n",
    "        tmp = []\n",
    "        prob = 1\n",
    "        snext = transition[state][a]\n",
    "        reward = payoff[state][a]\n",
    "        done = False\n",
    "        if snext == 10:\n",
    "            done = True\n",
    "        # prob, next_state, reward, done\n",
    "        tmp.extend([(prob, snext, reward, done)])\n",
    "        P[state][a] = tmp\n",
    "P"
   ]
  },
  {
   "cell_type": "code",
   "execution_count": 17,
   "metadata": {},
   "outputs": [
    {
     "name": "stdout",
     "output_type": "stream",
     "text": [
      "1\n",
      "debug-> iter=1, delta=3.00000, V=[-3. -2. -2. -2. -3. -2. -2.  0.]\n",
      "2\n",
      "debug-> iter=2, delta=2.00000, V=[-5. -4. -4. -4. -3. -2. -2.  0.]\n",
      "3\n",
      "debug-> iter=3, delta=2.00000, V=[-7. -4. -4. -4. -3. -2. -2.  0.]\n",
      "4\n",
      "debug-> iter=4, delta=0.00000, V=[-7. -4. -4. -4. -3. -2. -2.  0.]\n",
      "5\n",
      "debug-> iter=5, delta=0.00000, V=[-7. -4. -4. -4. -3. -2. -2.  0.]\n",
      "6\n",
      "debug-> iter=6, delta=0.00000, V=[-7. -4. -4. -4. -3. -2. -2.  0.]\n",
      "7\n",
      "debug-> iter=7, delta=0.00000, V=[-7. -4. -4. -4. -3. -2. -2.  0.]\n",
      "8\n",
      "debug-> iter=8, delta=0.00000, V=[-7. -4. -4. -4. -3. -2. -2.  0.]\n",
      "9\n",
      "debug-> iter=9, delta=0.00000, V=[-7. -4. -4. -4. -3. -2. -2.  0.]\n",
      "10\n",
      "debug-> iter=10, delta=0.00000, V=[-7. -4. -4. -4. -3. -2. -2.  0.]\n",
      "[-7. -7. -8.]\n",
      "[-5. -4. -5.]\n",
      "[-5. -4. -4.]\n",
      "[-5. -4. -5.]\n",
      "[ -3. -10. -10.]\n",
      "[-10.  -2. -10.]\n",
      "[-10. -10.  -2.]\n",
      "[0. 0. 0.]\n"
     ]
    }
   ],
   "source": [
    "policy, V, dl, vl, policy_list, A = value_iteration()"
   ]
  },
  {
   "cell_type": "code",
   "execution_count": 18,
   "metadata": {},
   "outputs": [
    {
     "data": {
      "text/plain": [
       "[array([[4.22318798e-01, 4.22318798e-01, 1.55362403e-01],\n",
       "        [2.11941558e-01, 5.76116885e-01, 2.11941558e-01],\n",
       "        [1.55362403e-01, 4.22318798e-01, 4.22318798e-01],\n",
       "        [2.11941558e-01, 5.76116885e-01, 2.11941558e-01],\n",
       "        [9.98179556e-01, 9.10221936e-04, 9.10221936e-04],\n",
       "        [3.35237708e-04, 9.99329525e-01, 3.35237708e-04],\n",
       "        [3.35237708e-04, 3.35237708e-04, 9.99329525e-01],\n",
       "        [3.33333333e-01, 3.33333333e-01, 3.33333333e-01]]),\n",
       " array([[4.22318798e-01, 4.22318798e-01, 1.55362403e-01],\n",
       "        [2.11941558e-01, 5.76116885e-01, 2.11941558e-01],\n",
       "        [1.55362403e-01, 4.22318798e-01, 4.22318798e-01],\n",
       "        [2.11941558e-01, 5.76116885e-01, 2.11941558e-01],\n",
       "        [9.98179556e-01, 9.10221936e-04, 9.10221936e-04],\n",
       "        [3.35237708e-04, 9.99329525e-01, 3.35237708e-04],\n",
       "        [3.35237708e-04, 3.35237708e-04, 9.99329525e-01],\n",
       "        [3.33333333e-01, 3.33333333e-01, 3.33333333e-01]]),\n",
       " array([[4.22318798e-01, 4.22318798e-01, 1.55362403e-01],\n",
       "        [2.11941558e-01, 5.76116885e-01, 2.11941558e-01],\n",
       "        [1.55362403e-01, 4.22318798e-01, 4.22318798e-01],\n",
       "        [2.11941558e-01, 5.76116885e-01, 2.11941558e-01],\n",
       "        [9.98179556e-01, 9.10221936e-04, 9.10221936e-04],\n",
       "        [3.35237708e-04, 9.99329525e-01, 3.35237708e-04],\n",
       "        [3.35237708e-04, 3.35237708e-04, 9.99329525e-01],\n",
       "        [3.33333333e-01, 3.33333333e-01, 3.33333333e-01]]),\n",
       " array([[4.22318798e-01, 4.22318798e-01, 1.55362403e-01],\n",
       "        [2.11941558e-01, 5.76116885e-01, 2.11941558e-01],\n",
       "        [1.55362403e-01, 4.22318798e-01, 4.22318798e-01],\n",
       "        [2.11941558e-01, 5.76116885e-01, 2.11941558e-01],\n",
       "        [9.98179556e-01, 9.10221936e-04, 9.10221936e-04],\n",
       "        [3.35237708e-04, 9.99329525e-01, 3.35237708e-04],\n",
       "        [3.35237708e-04, 3.35237708e-04, 9.99329525e-01],\n",
       "        [3.33333333e-01, 3.33333333e-01, 3.33333333e-01]]),\n",
       " array([[4.22318798e-01, 4.22318798e-01, 1.55362403e-01],\n",
       "        [2.11941558e-01, 5.76116885e-01, 2.11941558e-01],\n",
       "        [1.55362403e-01, 4.22318798e-01, 4.22318798e-01],\n",
       "        [2.11941558e-01, 5.76116885e-01, 2.11941558e-01],\n",
       "        [9.98179556e-01, 9.10221936e-04, 9.10221936e-04],\n",
       "        [3.35237708e-04, 9.99329525e-01, 3.35237708e-04],\n",
       "        [3.35237708e-04, 3.35237708e-04, 9.99329525e-01],\n",
       "        [3.33333333e-01, 3.33333333e-01, 3.33333333e-01]]),\n",
       " array([[4.22318798e-01, 4.22318798e-01, 1.55362403e-01],\n",
       "        [2.11941558e-01, 5.76116885e-01, 2.11941558e-01],\n",
       "        [1.55362403e-01, 4.22318798e-01, 4.22318798e-01],\n",
       "        [2.11941558e-01, 5.76116885e-01, 2.11941558e-01],\n",
       "        [9.98179556e-01, 9.10221936e-04, 9.10221936e-04],\n",
       "        [3.35237708e-04, 9.99329525e-01, 3.35237708e-04],\n",
       "        [3.35237708e-04, 3.35237708e-04, 9.99329525e-01],\n",
       "        [3.33333333e-01, 3.33333333e-01, 3.33333333e-01]]),\n",
       " array([[4.22318798e-01, 4.22318798e-01, 1.55362403e-01],\n",
       "        [2.11941558e-01, 5.76116885e-01, 2.11941558e-01],\n",
       "        [1.55362403e-01, 4.22318798e-01, 4.22318798e-01],\n",
       "        [2.11941558e-01, 5.76116885e-01, 2.11941558e-01],\n",
       "        [9.98179556e-01, 9.10221936e-04, 9.10221936e-04],\n",
       "        [3.35237708e-04, 9.99329525e-01, 3.35237708e-04],\n",
       "        [3.35237708e-04, 3.35237708e-04, 9.99329525e-01],\n",
       "        [3.33333333e-01, 3.33333333e-01, 3.33333333e-01]]),\n",
       " array([[4.22318798e-01, 4.22318798e-01, 1.55362403e-01],\n",
       "        [2.11941558e-01, 5.76116885e-01, 2.11941558e-01],\n",
       "        [1.55362403e-01, 4.22318798e-01, 4.22318798e-01],\n",
       "        [2.11941558e-01, 5.76116885e-01, 2.11941558e-01],\n",
       "        [9.98179556e-01, 9.10221936e-04, 9.10221936e-04],\n",
       "        [3.35237708e-04, 9.99329525e-01, 3.35237708e-04],\n",
       "        [3.35237708e-04, 3.35237708e-04, 9.99329525e-01],\n",
       "        [3.33333333e-01, 3.33333333e-01, 3.33333333e-01]]),\n",
       " array([[4.22318798e-01, 4.22318798e-01, 1.55362403e-01],\n",
       "        [2.11941558e-01, 5.76116885e-01, 2.11941558e-01],\n",
       "        [1.55362403e-01, 4.22318798e-01, 4.22318798e-01],\n",
       "        [2.11941558e-01, 5.76116885e-01, 2.11941558e-01],\n",
       "        [9.98179556e-01, 9.10221936e-04, 9.10221936e-04],\n",
       "        [3.35237708e-04, 9.99329525e-01, 3.35237708e-04],\n",
       "        [3.35237708e-04, 3.35237708e-04, 9.99329525e-01],\n",
       "        [3.33333333e-01, 3.33333333e-01, 3.33333333e-01]]),\n",
       " array([[4.22318798e-01, 4.22318798e-01, 1.55362403e-01],\n",
       "        [2.11941558e-01, 5.76116885e-01, 2.11941558e-01],\n",
       "        [1.55362403e-01, 4.22318798e-01, 4.22318798e-01],\n",
       "        [2.11941558e-01, 5.76116885e-01, 2.11941558e-01],\n",
       "        [9.98179556e-01, 9.10221936e-04, 9.10221936e-04],\n",
       "        [3.35237708e-04, 9.99329525e-01, 3.35237708e-04],\n",
       "        [3.35237708e-04, 3.35237708e-04, 9.99329525e-01],\n",
       "        [3.33333333e-01, 3.33333333e-01, 3.33333333e-01]])]"
      ]
     },
     "execution_count": 18,
     "metadata": {},
     "output_type": "execute_result"
    }
   ],
   "source": [
    "policy_list"
   ]
  },
  {
   "cell_type": "code",
   "execution_count": 102,
   "metadata": {},
   "outputs": [
    {
     "data": {
      "text/plain": [
       "array([[1., 0., 0.],\n",
       "       [0., 1., 0.],\n",
       "       [0., 1., 0.],\n",
       "       [0., 1., 0.],\n",
       "       [1., 0., 0.],\n",
       "       [0., 1., 0.],\n",
       "       [0., 0., 1.],\n",
       "       [1., 0., 0.]])"
      ]
     },
     "execution_count": 102,
     "metadata": {},
     "output_type": "execute_result"
    }
   ],
   "source": [
    "policy"
   ]
  },
  {
   "cell_type": "code",
   "execution_count": 103,
   "metadata": {},
   "outputs": [
    {
     "data": {
      "image/png": "[encoded data removed]",
      "text/plain": [
       "<Figure size 432x288 with 1 Axes>"
      ]
     },
     "metadata": {
      "needs_background": "light"
     },
     "output_type": "display_data"
    }
   ],
   "source": [
    "###### plot\n",
    "\n",
    "v1 = np.array(vl)\n",
    "x = np.arange(0, 10)\n",
    "mean_v = np.mean(v1,axis=1) # sum列；得到维度与行维度相同\n",
    "plt.plot(x, mean_v, linewidth=1.8)\n",
    "plt.scatter(x, mean_v)\n",
    "plt.xlabel('#Iter')\n",
    "plt.ylabel('Expectation of $V_k$')\n",
    "plt.title(\"Sanity check: two agents; small\")\n",
    "plt.show()"
   ]
  },
  {
   "cell_type": "markdown",
   "metadata": {},
   "source": [
    "## 2. bigger one"
   ]
  },
  {
   "cell_type": "code",
   "execution_count": null,
   "metadata": {},
   "outputs": [],
   "source": [
    "# just for record\n",
    "graph = {\n",
    "    \"0\": {\"1\": lambda x : x,            \"0\": lambda x : 2},\n",
    "    \"1\": {\"1\": lambda x : 1,        \"0\": lambda x : x},\n",
    "    \"2\": {\"1\": lambda x : 1,        \"0\": lambda x : x},\n",
    "    \"3\": {\"1\": lambda x : 1,        \"0\": lambda x : x},\n",
    "    \"4\": {\"1\": lambda x : 1,        \"0\": lambda x : x},\n",
    "    \"5\": {\"1\": lambda x : 10,        \"0\": lambda x: x},\n",
    "    \"6\": {\"1\": lambda x : 1,           \"0\": 10},\n",
    "    \"7\": {\"1\": lambda x : 0,            \"0\": 0},\n",
    "} "
   ]
  },
  {
   "cell_type": "code",
   "execution_count": 105,
   "metadata": {},
   "outputs": [],
   "source": [
    "# 2 agents; big\n",
    "# payoff matrix\n",
    "\n",
    "nS = 11\n",
    "nA = 3\n",
    "\n",
    "payoff = [\n",
    "    [-3, -3, -4], # [b,b] 5\n",
    "    [-2, -2, -2], # [b,e] 6\n",
    "    [-2, -2, -2],  # [e,e] 7\n",
    "    [-3, -10, -10], # [c,c] 8\n",
    "    [-10, -2, -10], # [c,f] 9\n",
    "    [-10, -10, -2], # [f,f] 10\n",
    "    [0, 0, 0]      #[T,T] 11\n",
    "]\n",
    "transition =[\n",
    "    [1, 2, 3],\n",
    "    [4, 5, 6],\n",
    "    [4, 5, 6],\n",
    "    [4, 5, 6],\n",
    "    [7, 8, 9],\n",
    "    [7, 8, 9],\n",
    "    [7, 8, 9],\n",
    "    [10,10,10],\n",
    "    [10, 10, 10],\n",
    "    [10, 10, 10],\n",
    "    [10, 10, 10]\n",
    "]"
   ]
  },
  {
   "cell_type": "code",
   "execution_count": 106,
   "metadata": {},
   "outputs": [
    {
     "data": {
      "text/plain": [
       "{0: {0: [(1, 1, -3, False)], 1: [(1, 2, -3, False)], 2: [(1, 3, -4, False)]},\n",
       " 1: {0: [(1, 4, -2, False)], 1: [(1, 5, -2, False)], 2: [(1, 6, -3, False)]},\n",
       " 2: {0: [(1, 4, -2, False)], 1: [(1, 5, -2, False)], 2: [(1, 6, -2, False)]},\n",
       " 3: {0: [(1, 4, -2, False)], 1: [(1, 5, -2, False)], 2: [(1, 6, -3, False)]},\n",
       " 4: {0: [(1, 7, -3, False)], 1: [(1, 8, -3, False)], 2: [(1, 9, -4, False)]},\n",
       " 5: {0: [(1, 7, -2, False)], 1: [(1, 8, -2, False)], 2: [(1, 9, -2, False)]},\n",
       " 6: {0: [(1, 7, -2, False)], 1: [(1, 8, -2, False)], 2: [(1, 9, -2, False)]},\n",
       " 7: {0: [(1, 10, -3, True)], 1: [(1, 10, -10, True)], 2: [(1, 10, -10, True)]},\n",
       " 8: {0: [(1, 10, -10, True)], 1: [(1, 10, -2, True)], 2: [(1, 10, -10, True)]},\n",
       " 9: {0: [(1, 10, -10, True)], 1: [(1, 10, -10, True)], 2: [(1, 10, -2, True)]},\n",
       " 10: {0: [(1, 10, 0, True)], 1: [(1, 10, 0, True)], 2: [(1, 10, 0, True)]}}"
      ]
     },
     "execution_count": 106,
     "metadata": {},
     "output_type": "execute_result"
    }
   ],
   "source": [
    "P = dict()\n",
    "for s in range(nS):\n",
    "    P[s] = {a : [] for a in range(nA)}\n",
    "    \n",
    "for state in range(nS):\n",
    "    for a in range(nA):\n",
    "        tmp = []\n",
    "        prob = 1\n",
    "        snext = transition[state][a]\n",
    "        reward = payoff[state][a]\n",
    "        done = False\n",
    "        if snext == 10:\n",
    "            done = True\n",
    "        # prob, next_state, reward, done\n",
    "        tmp.extend([(prob, snext, reward, done)])\n",
    "        P[state][a] = tmp\n",
    "P"
   ]
  },
  {
   "cell_type": "code",
   "execution_count": 107,
   "metadata": {},
   "outputs": [
    {
     "name": "stdout",
     "output_type": "stream",
     "text": [
      "1\n",
      "debug-> iter=1, delta=3.00000, V=[-3. -2. -2. -2. -3. -2. -2. -3. -2. -2.  0.]\n",
      "2\n",
      "debug-> iter=2, delta=2.00000, V=[-5. -4. -4. -4. -5. -4. -4. -3. -2. -2.  0.]\n",
      "3\n",
      "debug-> iter=3, delta=2.00000, V=[-7. -6. -6. -6. -5. -4. -4. -3. -2. -2.  0.]\n",
      "4\n",
      "debug-> iter=4, delta=2.00000, V=[-9. -6. -6. -6. -5. -4. -4. -3. -2. -2.  0.]\n",
      "5\n",
      "debug-> iter=5, delta=0.00000, V=[-9. -6. -6. -6. -5. -4. -4. -3. -2. -2.  0.]\n",
      "6\n",
      "debug-> iter=6, delta=0.00000, V=[-9. -6. -6. -6. -5. -4. -4. -3. -2. -2.  0.]\n",
      "7\n",
      "debug-> iter=7, delta=0.00000, V=[-9. -6. -6. -6. -5. -4. -4. -3. -2. -2.  0.]\n",
      "8\n",
      "debug-> iter=8, delta=0.00000, V=[-9. -6. -6. -6. -5. -4. -4. -3. -2. -2.  0.]\n",
      "9\n",
      "debug-> iter=9, delta=0.00000, V=[-9. -6. -6. -6. -5. -4. -4. -3. -2. -2.  0.]\n",
      "10\n",
      "debug-> iter=10, delta=0.00000, V=[-9. -6. -6. -6. -5. -4. -4. -3. -2. -2.  0.]\n",
      "[ -9.  -9. -10.]\n",
      "[-7. -6. -7.]\n",
      "[-7. -6. -6.]\n",
      "[-7. -6. -7.]\n",
      "[-6. -5. -6.]\n",
      "[-5. -4. -4.]\n",
      "[-5. -4. -4.]\n",
      "[ -3. -10. -10.]\n",
      "[-10.  -2. -10.]\n",
      "[-10. -10.  -2.]\n",
      "[0. 0. 0.]\n"
     ]
    }
   ],
   "source": [
    "policy, V, dl, vl, policy_list, A = value_iteration()"
   ]
  },
  {
   "cell_type": "code",
   "execution_count": 108,
   "metadata": {},
   "outputs": [
    {
     "data": {
      "image/png": "[encoded data removed]",
      "text/plain": [
       "<Figure size 432x288 with 1 Axes>"
      ]
     },
     "metadata": {
      "needs_background": "light"
     },
     "output_type": "display_data"
    }
   ],
   "source": [
    "###### plot\n",
    "\n",
    "v1 = np.array(vl)\n",
    "x = np.arange(0, 10)\n",
    "mean_v = np.mean(v1,axis=1) # sum列；得到维度与行维度相同\n",
    "plt.plot(x, mean_v, linewidth=1.8)\n",
    "plt.scatter(x, mean_v)\n",
    "plt.xlabel('#Iter')\n",
    "plt.ylabel('Expectation of $V_k$')\n",
    "plt.title(\"Sanity check: two agents; big\")\n",
    "plt.show()"
   ]
  },
  {
   "cell_type": "code",
   "execution_count": null,
   "metadata": {},
   "outputs": [],
   "source": [
    "policy, v, dl, vl, policy_list = spg_vi.value_iteration(env)\n",
    "\n",
    "    print(\"Policy Probability Distribution:\", policy)\n",
    "    print(\"Value Function:\", v)\n",
    "\n",
    "    # plot Bk\n",
    "    # Bk(dl,vl)\n",
    "    # plot mean reward\n",
    "    mean_reward(policy_list)\n",
    "    # # plot state values or total returns\n",
    "    total_return(policy_list)"
   ]
  }
 ],
 "metadata": {
  "kernelspec": {
   "display_name": "Python 3",
   "language": "python",
   "name": "python3"
  },
  "language_info": {
   "codemirror_mode": {
    "name": "ipython",
    "version": 3
   },
   "file_extension": ".py",
   "mimetype": "text/x-python",
   "name": "python",
   "nbconvert_exporter": "python",
   "pygments_lexer": "ipython3",
   "version": "3.7.3"
  }
 },
 "nbformat": 4,
 "nbformat_minor": 2
}
